{
 "cells": [
  {
   "cell_type": "code",
   "execution_count": 1,
   "id": "46b42eef-5565-4b4c-b0d7-b6bdc8bc5359",
   "metadata": {},
   "outputs": [],
   "source": [
    "from pyspark.sql import SparkSession\n",
    "import pyspark.sql.functions as f\n",
    "from sedona.spark import SedonaContext"
   ]
  },
  {
   "cell_type": "code",
   "execution_count": 2,
   "id": "9fc4b54f-00e9-4d33-b599-df9f76aa77f6",
   "metadata": {},
   "outputs": [
    {
     "name": "stderr",
     "output_type": "stream",
     "text": [
      "24/12/18 19:27:46 WARN Utils: Your hostname, Pawels-MacBook-Pro.local resolves to a loopback address: 127.0.0.1; using 192.168.0.115 instead (on interface en0)\n",
      "24/12/18 19:27:46 WARN Utils: Set SPARK_LOCAL_IP if you need to bind to another address\n"
     ]
    },
    {
     "name": "stdout",
     "output_type": "stream",
     "text": [
      ":: loading settings :: url = jar:file:/Users/pawelkocinski/Desktop/projects/apache-sedona-book/.venv/lib/python3.12/site-packages/pyspark/jars/ivy-2.5.1.jar!/org/apache/ivy/core/settings/ivysettings.xml\n"
     ]
    },
    {
     "name": "stderr",
     "output_type": "stream",
     "text": [
      "Ivy Default Cache set to: /Users/pawelkocinski/.ivy2/cache\n",
      "The jars for the packages stored in: /Users/pawelkocinski/.ivy2/jars\n",
      "org.apache.hadoop#hadoop-aws added as a dependency\n",
      "org.apache.hadoop#hadoop-client-api added as a dependency\n",
      "org.apache.hadoop#hadoop-common added as a dependency\n",
      "org.apache.sedona#sedona-spark-3.5_2.12 added as a dependency\n",
      "org.datasyslab#geotools-wrapper added as a dependency\n",
      "uk.co.gresearch.spark#spark-extension_2.12 added as a dependency\n",
      ":: resolving dependencies :: org.apache.spark#spark-submit-parent-14865d4a-2a1a-453f-8c16-5cfe8b2eda56;1.0\n",
      "\tconfs: [default]\n",
      "\tfound org.apache.hadoop#hadoop-aws;3.3.4 in central\n",
      "\tfound com.amazonaws#aws-java-sdk-bundle;1.12.262 in central\n",
      "\tfound org.wildfly.openssl#wildfly-openssl;1.0.7.Final in central\n",
      "\tfound org.apache.hadoop#hadoop-client-api;3.3.4 in central\n",
      "\tfound org.xerial.snappy#snappy-java;1.1.8.2 in local-m2-cache\n",
      "\tfound org.apache.hadoop#hadoop-common;3.3.4 in central\n",
      "\tfound org.apache.hadoop.thirdparty#hadoop-shaded-protobuf_3_7;1.1.1 in local-m2-cache\n",
      "\tfound org.apache.hadoop#hadoop-annotations;3.3.4 in central\n",
      "\tfound org.apache.hadoop.thirdparty#hadoop-shaded-guava;1.1.1 in local-m2-cache\n",
      "\tfound com.google.guava#guava;27.0-jre in local-m2-cache\n",
      "\tfound com.google.guava#failureaccess;1.0 in local-m2-cache\n",
      "\tfound com.google.guava#listenablefuture;9999.0-empty-to-avoid-conflict-with-guava in local-m2-cache\n",
      "\tfound com.google.code.findbugs#jsr305;3.0.2 in central\n",
      "\tfound org.checkerframework#checker-qual;2.5.2 in local-m2-cache\n",
      "\tfound com.google.j2objc#j2objc-annotations;1.1 in central\n",
      "\tfound org.codehaus.mojo#animal-sniffer-annotations;1.17 in local-m2-cache\n",
      "\tfound commons-cli#commons-cli;1.2 in local-m2-cache\n",
      "\tfound org.apache.commons#commons-math3;3.1.1 in local-m2-cache\n",
      "\tfound org.apache.httpcomponents#httpclient;4.5.13 in local-m2-cache\n",
      "\tfound org.apache.httpcomponents#httpcore;4.4.13 in local-m2-cache\n",
      "\tfound commons-logging#commons-logging;1.1.3 in local-m2-cache\n",
      "\tfound commons-codec#commons-codec;1.15 in local-m2-cache\n",
      "\tfound commons-io#commons-io;2.8.0 in local-m2-cache\n",
      "\tfound commons-net#commons-net;3.6 in local-m2-cache\n",
      "\tfound commons-collections#commons-collections;3.2.2 in local-m2-cache\n",
      "\tfound javax.servlet#javax.servlet-api;3.1.0 in local-m2-cache\n",
      "\tfound org.eclipse.jetty#jetty-server;9.4.43.v20210629 in local-m2-cache\n",
      "\tfound org.eclipse.jetty#jetty-http;9.4.43.v20210629 in local-m2-cache\n",
      "\tfound org.eclipse.jetty#jetty-util;9.4.43.v20210629 in local-m2-cache\n",
      "\tfound org.eclipse.jetty#jetty-io;9.4.43.v20210629 in local-m2-cache\n",
      "\tfound org.eclipse.jetty#jetty-servlet;9.4.43.v20210629 in local-m2-cache\n",
      "\tfound org.eclipse.jetty#jetty-security;9.4.43.v20210629 in local-m2-cache\n",
      "\tfound org.eclipse.jetty#jetty-util-ajax;9.4.43.v20210629 in local-m2-cache\n",
      "\tfound org.eclipse.jetty#jetty-webapp;9.4.43.v20210629 in local-m2-cache\n",
      "\tfound org.eclipse.jetty#jetty-xml;9.4.43.v20210629 in local-m2-cache\n",
      "\tfound com.sun.jersey#jersey-core;1.19 in local-m2-cache\n",
      "\tfound javax.ws.rs#jsr311-api;1.1.1 in local-m2-cache\n",
      "\tfound com.sun.jersey#jersey-servlet;1.19 in local-m2-cache\n",
      "\tfound com.sun.jersey#jersey-server;1.19 in local-m2-cache\n",
      "\tfound com.sun.jersey#jersey-json;1.19 in local-m2-cache\n",
      "\tfound org.codehaus.jettison#jettison;1.1 in local-m2-cache\n",
      "\tfound com.sun.xml.bind#jaxb-impl;2.2.3-1 in local-m2-cache\n",
      "\tfound javax.xml.bind#jaxb-api;2.2.11 in local-m2-cache\n",
      "\tfound org.codehaus.jackson#jackson-core-asl;1.9.13 in local-m2-cache\n",
      "\tfound org.codehaus.jackson#jackson-mapper-asl;1.9.13 in local-m2-cache\n",
      "\tfound org.codehaus.jackson#jackson-jaxrs;1.9.13 in local-m2-cache\n",
      "\tfound org.codehaus.jackson#jackson-xc;1.9.13 in local-m2-cache\n",
      "\tfound ch.qos.reload4j#reload4j;1.2.22 in local-m2-cache\n",
      "\tfound commons-beanutils#commons-beanutils;1.9.4 in local-m2-cache\n",
      "\tfound org.apache.commons#commons-configuration2;2.1.1 in local-m2-cache\n",
      "\tfound org.apache.commons#commons-lang3;3.12.0 in local-m2-cache\n",
      "\tfound org.apache.commons#commons-text;1.4 in local-m2-cache\n",
      "\tfound org.slf4j#slf4j-api;1.7.36 in local-m2-cache\n",
      "\tfound org.slf4j#slf4j-reload4j;1.7.36 in local-m2-cache\n",
      "\tfound org.apache.avro#avro;1.7.7 in local-m2-cache\n",
      "\tfound com.thoughtworks.paranamer#paranamer;2.3 in local-m2-cache\n",
      "\tfound org.apache.commons#commons-compress;1.21 in local-m2-cache\n",
      "\tfound com.google.re2j#re2j;1.1 in local-m2-cache\n",
      "\tfound com.google.protobuf#protobuf-java;2.5.0 in local-m2-cache\n",
      "\tfound com.google.code.gson#gson;2.8.9 in local-m2-cache\n",
      "\tfound org.apache.hadoop#hadoop-auth;3.3.4 in central\n",
      "\tfound com.nimbusds#nimbus-jose-jwt;9.8.1 in local-m2-cache\n",
      "\tfound com.github.stephenc.jcip#jcip-annotations;1.0-1 in local-m2-cache\n",
      "\tfound net.minidev#json-smart;2.4.7 in local-m2-cache\n",
      "\tfound net.minidev#accessors-smart;2.4.7 in local-m2-cache\n",
      "\tfound org.ow2.asm#asm;5.0.4 in local-m2-cache\n",
      "\tfound org.apache.zookeeper#zookeeper;3.5.6 in central\n",
      "\tfound org.apache.zookeeper#zookeeper-jute;3.5.6 in central\n",
      "\tfound org.apache.yetus#audience-annotations;0.5.0 in local-m2-cache\n",
      "\tfound org.apache.curator#curator-framework;4.2.0 in central\n",
      "\tfound org.apache.curator#curator-client;4.2.0 in central\n",
      "\tfound org.apache.kerby#kerb-simplekdc;1.0.1 in local-m2-cache\n",
      "\tfound org.apache.kerby#kerb-client;1.0.1 in local-m2-cache\n",
      "\tfound org.apache.kerby#kerby-config;1.0.1 in local-m2-cache\n",
      "\tfound org.apache.kerby#kerb-core;1.0.1 in local-m2-cache\n",
      "\tfound org.apache.kerby#kerby-pkix;1.0.1 in local-m2-cache\n",
      "\tfound org.apache.kerby#kerby-asn1;1.0.1 in local-m2-cache\n",
      "\tfound org.apache.kerby#kerby-util;1.0.1 in local-m2-cache\n",
      "\tfound org.apache.kerby#kerb-common;1.0.1 in local-m2-cache\n",
      "\tfound org.apache.kerby#kerb-crypto;1.0.1 in local-m2-cache\n",
      "\tfound org.apache.kerby#kerb-util;1.0.1 in local-m2-cache\n",
      "\tfound org.apache.kerby#token-provider;1.0.1 in local-m2-cache\n",
      "\tfound org.apache.kerby#kerb-admin;1.0.1 in local-m2-cache\n",
      "\tfound org.apache.kerby#kerb-server;1.0.1 in local-m2-cache\n",
      "\tfound org.apache.kerby#kerb-identity;1.0.1 in local-m2-cache\n",
      "\tfound org.apache.kerby#kerby-xdr;1.0.1 in local-m2-cache\n",
      "\tfound com.jcraft#jsch;0.1.55 in local-m2-cache\n",
      "\tfound org.apache.curator#curator-recipes;4.2.0 in central\n",
      "\tfound com.fasterxml.jackson.core#jackson-databind;2.12.7 in local-m2-cache\n",
      "\tfound com.fasterxml.jackson.core#jackson-annotations;2.12.7 in local-m2-cache\n",
      "\tfound com.fasterxml.jackson.core#jackson-core;2.12.7 in local-m2-cache\n",
      "\tfound org.codehaus.woodstox#stax2-api;4.2.1 in local-m2-cache\n",
      "\tfound com.fasterxml.woodstox#woodstox-core;5.3.0 in local-m2-cache\n",
      "\tfound dnsjava#dnsjava;2.1.7 in local-m2-cache\n",
      "\tfound jakarta.activation#jakarta.activation-api;1.2.1 in local-m2-cache\n",
      "\tfound javax.servlet.jsp#jsp-api;2.1 in local-m2-cache\n",
      "\tfound org.apache.sedona#sedona-spark-3.5_2.12;1.7.0 in central\n",
      "\tfound org.apache.sedona#sedona-common;1.7.0 in central\n",
      "\tfound org.apache.commons#commons-math3;3.6.1 in central\n",
      "\tfound org.locationtech.jts#jts-core;1.20.0 in local-m2-cache\n",
      "\tfound org.wololo#jts2geojson;0.16.1 in central\n",
      "\tfound org.locationtech.spatial4j#spatial4j;0.8 in central\n",
      "\tfound com.google.geometry#s2-geometry;2.0.0 in central\n",
      "\tfound com.uber#h3;4.1.1 in central\n",
      "\tfound net.sf.geographiclib#GeographicLib-Java;1.52 in central\n",
      "\tfound com.github.ben-manes.caffeine#caffeine;2.9.2 in central\n",
      "\tfound org.checkerframework#checker-qual;3.10.0 in central\n",
      "\tfound com.google.errorprone#error_prone_annotations;2.5.1 in central\n",
      "\tfound org.apache.sedona#sedona-spark-common-3.5_2.12;1.7.0 in central\n",
      "\tfound org.xerial#sqlite-jdbc;3.41.2.2 in local-m2-cache\n",
      "\tfound commons-lang#commons-lang;2.6 in central\n",
      "\tfound graphframes#graphframes;0.8.3-spark3.5-s_2.12 in local-m2-cache\n",
      "\tfound org.scala-lang.modules#scala-collection-compat_2.12;2.5.0 in central\n",
      "\tfound org.beryx#awt-color-factory;1.0.0 in central\n",
      "\tfound org.datasyslab#geotools-wrapper;1.7.0-28.5 in central\n",
      "\tfound uk.co.gresearch.spark#spark-extension_2.12;2.11.0-3.4 in central\n",
      "\tfound com.github.scopt#scopt_2.12;4.1.0 in central\n",
      ":: resolution report :: resolve 3055ms :: artifacts dl 114ms\n",
      "\t:: modules in use:\n",
      "\tch.qos.reload4j#reload4j;1.2.22 from local-m2-cache in [default]\n",
      "\tcom.amazonaws#aws-java-sdk-bundle;1.12.262 from central in [default]\n",
      "\tcom.fasterxml.jackson.core#jackson-annotations;2.12.7 from local-m2-cache in [default]\n",
      "\tcom.fasterxml.jackson.core#jackson-core;2.12.7 from local-m2-cache in [default]\n",
      "\tcom.fasterxml.jackson.core#jackson-databind;2.12.7 from local-m2-cache in [default]\n",
      "\tcom.fasterxml.woodstox#woodstox-core;5.3.0 from local-m2-cache in [default]\n",
      "\tcom.github.ben-manes.caffeine#caffeine;2.9.2 from central in [default]\n",
      "\tcom.github.scopt#scopt_2.12;4.1.0 from central in [default]\n",
      "\tcom.github.stephenc.jcip#jcip-annotations;1.0-1 from local-m2-cache in [default]\n",
      "\tcom.google.code.findbugs#jsr305;3.0.2 from central in [default]\n",
      "\tcom.google.code.gson#gson;2.8.9 from local-m2-cache in [default]\n",
      "\tcom.google.errorprone#error_prone_annotations;2.5.1 from central in [default]\n",
      "\tcom.google.geometry#s2-geometry;2.0.0 from central in [default]\n",
      "\tcom.google.guava#failureaccess;1.0 from local-m2-cache in [default]\n",
      "\tcom.google.guava#guava;27.0-jre from local-m2-cache in [default]\n",
      "\tcom.google.guava#listenablefuture;9999.0-empty-to-avoid-conflict-with-guava from local-m2-cache in [default]\n",
      "\tcom.google.j2objc#j2objc-annotations;1.1 from central in [default]\n",
      "\tcom.google.protobuf#protobuf-java;2.5.0 from local-m2-cache in [default]\n",
      "\tcom.google.re2j#re2j;1.1 from local-m2-cache in [default]\n",
      "\tcom.jcraft#jsch;0.1.55 from local-m2-cache in [default]\n",
      "\tcom.nimbusds#nimbus-jose-jwt;9.8.1 from local-m2-cache in [default]\n",
      "\tcom.sun.jersey#jersey-core;1.19 from local-m2-cache in [default]\n",
      "\tcom.sun.jersey#jersey-json;1.19 from local-m2-cache in [default]\n",
      "\tcom.sun.jersey#jersey-server;1.19 from local-m2-cache in [default]\n",
      "\tcom.sun.jersey#jersey-servlet;1.19 from local-m2-cache in [default]\n",
      "\tcom.sun.xml.bind#jaxb-impl;2.2.3-1 from local-m2-cache in [default]\n",
      "\tcom.thoughtworks.paranamer#paranamer;2.3 from local-m2-cache in [default]\n",
      "\tcom.uber#h3;4.1.1 from central in [default]\n",
      "\tcommons-beanutils#commons-beanutils;1.9.4 from local-m2-cache in [default]\n",
      "\tcommons-cli#commons-cli;1.2 from local-m2-cache in [default]\n",
      "\tcommons-codec#commons-codec;1.15 from local-m2-cache in [default]\n",
      "\tcommons-collections#commons-collections;3.2.2 from local-m2-cache in [default]\n",
      "\tcommons-io#commons-io;2.8.0 from local-m2-cache in [default]\n",
      "\tcommons-lang#commons-lang;2.6 from central in [default]\n",
      "\tcommons-logging#commons-logging;1.1.3 from local-m2-cache in [default]\n",
      "\tcommons-net#commons-net;3.6 from local-m2-cache in [default]\n",
      "\tdnsjava#dnsjava;2.1.7 from local-m2-cache in [default]\n",
      "\tgraphframes#graphframes;0.8.3-spark3.5-s_2.12 from local-m2-cache in [default]\n",
      "\tjakarta.activation#jakarta.activation-api;1.2.1 from local-m2-cache in [default]\n",
      "\tjavax.servlet#javax.servlet-api;3.1.0 from local-m2-cache in [default]\n",
      "\tjavax.servlet.jsp#jsp-api;2.1 from local-m2-cache in [default]\n",
      "\tjavax.ws.rs#jsr311-api;1.1.1 from local-m2-cache in [default]\n",
      "\tjavax.xml.bind#jaxb-api;2.2.11 from local-m2-cache in [default]\n",
      "\tnet.minidev#accessors-smart;2.4.7 from local-m2-cache in [default]\n",
      "\tnet.minidev#json-smart;2.4.7 from local-m2-cache in [default]\n",
      "\tnet.sf.geographiclib#GeographicLib-Java;1.52 from central in [default]\n",
      "\torg.apache.avro#avro;1.7.7 from local-m2-cache in [default]\n",
      "\torg.apache.commons#commons-compress;1.21 from local-m2-cache in [default]\n",
      "\torg.apache.commons#commons-configuration2;2.1.1 from local-m2-cache in [default]\n",
      "\torg.apache.commons#commons-lang3;3.12.0 from local-m2-cache in [default]\n",
      "\torg.apache.commons#commons-math3;3.6.1 from central in [default]\n",
      "\torg.apache.commons#commons-text;1.4 from local-m2-cache in [default]\n",
      "\torg.apache.curator#curator-client;4.2.0 from central in [default]\n",
      "\torg.apache.curator#curator-framework;4.2.0 from central in [default]\n",
      "\torg.apache.curator#curator-recipes;4.2.0 from central in [default]\n",
      "\torg.apache.hadoop#hadoop-annotations;3.3.4 from central in [default]\n",
      "\torg.apache.hadoop#hadoop-auth;3.3.4 from central in [default]\n",
      "\torg.apache.hadoop#hadoop-aws;3.3.4 from central in [default]\n",
      "\torg.apache.hadoop#hadoop-client-api;3.3.4 from central in [default]\n",
      "\torg.apache.hadoop#hadoop-common;3.3.4 from central in [default]\n",
      "\torg.apache.hadoop.thirdparty#hadoop-shaded-guava;1.1.1 from local-m2-cache in [default]\n",
      "\torg.apache.hadoop.thirdparty#hadoop-shaded-protobuf_3_7;1.1.1 from local-m2-cache in [default]\n",
      "\torg.apache.httpcomponents#httpclient;4.5.13 from local-m2-cache in [default]\n",
      "\torg.apache.httpcomponents#httpcore;4.4.13 from local-m2-cache in [default]\n",
      "\torg.apache.kerby#kerb-admin;1.0.1 from local-m2-cache in [default]\n",
      "\torg.apache.kerby#kerb-client;1.0.1 from local-m2-cache in [default]\n",
      "\torg.apache.kerby#kerb-common;1.0.1 from local-m2-cache in [default]\n",
      "\torg.apache.kerby#kerb-core;1.0.1 from local-m2-cache in [default]\n",
      "\torg.apache.kerby#kerb-crypto;1.0.1 from local-m2-cache in [default]\n",
      "\torg.apache.kerby#kerb-identity;1.0.1 from local-m2-cache in [default]\n",
      "\torg.apache.kerby#kerb-server;1.0.1 from local-m2-cache in [default]\n",
      "\torg.apache.kerby#kerb-simplekdc;1.0.1 from local-m2-cache in [default]\n",
      "\torg.apache.kerby#kerb-util;1.0.1 from local-m2-cache in [default]\n",
      "\torg.apache.kerby#kerby-asn1;1.0.1 from local-m2-cache in [default]\n",
      "\torg.apache.kerby#kerby-config;1.0.1 from local-m2-cache in [default]\n",
      "\torg.apache.kerby#kerby-pkix;1.0.1 from local-m2-cache in [default]\n",
      "\torg.apache.kerby#kerby-util;1.0.1 from local-m2-cache in [default]\n",
      "\torg.apache.kerby#kerby-xdr;1.0.1 from local-m2-cache in [default]\n",
      "\torg.apache.kerby#token-provider;1.0.1 from local-m2-cache in [default]\n",
      "\torg.apache.sedona#sedona-common;1.7.0 from central in [default]\n",
      "\torg.apache.sedona#sedona-spark-3.5_2.12;1.7.0 from central in [default]\n",
      "\torg.apache.sedona#sedona-spark-common-3.5_2.12;1.7.0 from central in [default]\n",
      "\torg.apache.yetus#audience-annotations;0.5.0 from local-m2-cache in [default]\n",
      "\torg.apache.zookeeper#zookeeper;3.5.6 from central in [default]\n",
      "\torg.apache.zookeeper#zookeeper-jute;3.5.6 from central in [default]\n",
      "\torg.beryx#awt-color-factory;1.0.0 from central in [default]\n",
      "\torg.checkerframework#checker-qual;3.10.0 from central in [default]\n",
      "\torg.codehaus.jackson#jackson-core-asl;1.9.13 from local-m2-cache in [default]\n",
      "\torg.codehaus.jackson#jackson-jaxrs;1.9.13 from local-m2-cache in [default]\n",
      "\torg.codehaus.jackson#jackson-mapper-asl;1.9.13 from local-m2-cache in [default]\n",
      "\torg.codehaus.jackson#jackson-xc;1.9.13 from local-m2-cache in [default]\n",
      "\torg.codehaus.jettison#jettison;1.1 from local-m2-cache in [default]\n",
      "\torg.codehaus.mojo#animal-sniffer-annotations;1.17 from local-m2-cache in [default]\n",
      "\torg.codehaus.woodstox#stax2-api;4.2.1 from local-m2-cache in [default]\n",
      "\torg.datasyslab#geotools-wrapper;1.7.0-28.5 from central in [default]\n",
      "\torg.eclipse.jetty#jetty-http;9.4.43.v20210629 from local-m2-cache in [default]\n",
      "\torg.eclipse.jetty#jetty-io;9.4.43.v20210629 from local-m2-cache in [default]\n",
      "\torg.eclipse.jetty#jetty-security;9.4.43.v20210629 from local-m2-cache in [default]\n",
      "\torg.eclipse.jetty#jetty-server;9.4.43.v20210629 from local-m2-cache in [default]\n",
      "\torg.eclipse.jetty#jetty-servlet;9.4.43.v20210629 from local-m2-cache in [default]\n",
      "\torg.eclipse.jetty#jetty-util;9.4.43.v20210629 from local-m2-cache in [default]\n",
      "\torg.eclipse.jetty#jetty-util-ajax;9.4.43.v20210629 from local-m2-cache in [default]\n",
      "\torg.eclipse.jetty#jetty-webapp;9.4.43.v20210629 from local-m2-cache in [default]\n",
      "\torg.eclipse.jetty#jetty-xml;9.4.43.v20210629 from local-m2-cache in [default]\n",
      "\torg.locationtech.jts#jts-core;1.20.0 from local-m2-cache in [default]\n",
      "\torg.locationtech.spatial4j#spatial4j;0.8 from central in [default]\n",
      "\torg.ow2.asm#asm;5.0.4 from local-m2-cache in [default]\n",
      "\torg.scala-lang.modules#scala-collection-compat_2.12;2.5.0 from central in [default]\n",
      "\torg.slf4j#slf4j-api;1.7.36 from local-m2-cache in [default]\n",
      "\torg.slf4j#slf4j-reload4j;1.7.36 from local-m2-cache in [default]\n",
      "\torg.wildfly.openssl#wildfly-openssl;1.0.7.Final from central in [default]\n",
      "\torg.wololo#jts2geojson;0.16.1 from central in [default]\n",
      "\torg.xerial#sqlite-jdbc;3.41.2.2 from local-m2-cache in [default]\n",
      "\torg.xerial.snappy#snappy-java;1.1.8.2 from local-m2-cache in [default]\n",
      "\tuk.co.gresearch.spark#spark-extension_2.12;2.11.0-3.4 from central in [default]\n",
      "\t:: evicted modules:\n",
      "\torg.checkerframework#checker-qual;2.5.2 by [org.checkerframework#checker-qual;3.10.0] in [default]\n",
      "\torg.apache.commons#commons-math3;3.1.1 by [org.apache.commons#commons-math3;3.6.1] in [default]\n",
      "\tcom.google.guava#guava;25.1-jre by [com.google.guava#guava;27.0-jre] in [default]\n",
      "\t---------------------------------------------------------------------\n",
      "\t|                  |            modules            ||   artifacts   |\n",
      "\t|       conf       | number| search|dwnlded|evicted|| number|dwnlded|\n",
      "\t---------------------------------------------------------------------\n",
      "\t|      default     |  118  |   0   |   0   |   3   ||  115  |   0   |\n",
      "\t---------------------------------------------------------------------\n",
      ":: retrieving :: org.apache.spark#spark-submit-parent-14865d4a-2a1a-453f-8c16-5cfe8b2eda56\n",
      "\tconfs: [default]\n",
      "\t0 artifacts copied, 115 already retrieved (0kB/69ms)\n",
      "24/12/18 19:27:49 WARN NativeCodeLoader: Unable to load native-hadoop library for your platform... using builtin-java classes where applicable\n",
      "Setting default log level to \"WARN\".\n",
      "To adjust logging level use sc.setLogLevel(newLevel). For SparkR, use setLogLevel(newLevel).\n",
      "2024-12-18 19:28:05.455 java[21189:14652403] +[IMKClient subclass]: chose IMKClient_Modern\n",
      "2024-12-18 19:28:05.455 java[21189:14652403] +[IMKInputSession subclass]: chose IMKInputSession_Modern\n"
     ]
    }
   ],
   "source": [
    "additional_packages = [\n",
    "    'org.apache.hadoop:hadoop-aws:3.3.4',\n",
    "    'org.apache.hadoop:hadoop-client-api:3.3.4',\n",
    "    'org.apache.hadoop:hadoop-common:3.3.4',\n",
    "    'org.apache.sedona:sedona-spark-3.5_2.12:1.7.0',\n",
    "    'org.datasyslab:geotools-wrapper:1.7.0-28.5',\n",
    "    'uk.co.gresearch.spark:spark-extension_2.12:2.11.0-3.4'\n",
    "]\n",
    "\n",
    "config = (\n",
    "    SedonaContext.builder()\n",
    "    .config(\n",
    "     \"spark.driver.memory\", \"5G\"   \n",
    "    )\n",
    "    .config(\"spark.hadoop.fs.s3a.aws.credentials.provider\", \"org.apache.hadoop.fs.s3a.SimpleAWSCredentialsProvider\") \\\n",
    "    .config(\"spark.hadoop.fs.s3a.access.key\", \"sedona\") \\\n",
    "    .config(\"spark.hadoop.fs.s3a.secret.key\", \"sedona_password\") \\\n",
    "    .config(\"spark.hadoop.fs.s3a.endpoint\", \"http://localhost:9000\") \\\n",
    "    .config(\n",
    "      \"spark.hadoop.fs.s3a.aws.credentials.provider\",\n",
    "      \"org.apache.hadoop.fs.s3a.SimpleAWSCredentialsProvider\")\\\n",
    "    .config(\"spark.hadoop.fs.s3a.impl\", \"org.apache.hadoop.fs.s3a.S3AFileSystem\")\\\n",
    "    .config(\"spark.hadoop.fs.s3a.path.style.access\", \"true\") \\\n",
    "    .config(\"spark.jars.packages\", \",\".join(additional_packages))\\\n",
    "    .getOrCreate()\n",
    ")\n",
    "\n",
    "sedona = SedonaContext.create(config)"
   ]
  },
  {
   "cell_type": "markdown",
   "id": "d18b62a1-4f36-4843-9b04-53e2f4799369",
   "metadata": {},
   "source": [
    "# CSV With WKT"
   ]
  },
  {
   "cell_type": "code",
   "execution_count": 3,
   "id": "6620a89a-e596-4a97-8007-fbf70cfb6fc3",
   "metadata": {},
   "outputs": [
    {
     "name": "stderr",
     "output_type": "stream",
     "text": [
      "24/12/18 19:28:08 WARN MetricsConfig: Cannot locate configuration: tried hadoop-metrics2-s3a-file-system.properties,hadoop-metrics2.properties\n",
      "[Stage 4:>                                                          (0 + 1) / 1]"
     ]
    },
    {
     "name": "stdout",
     "output_type": "stream",
     "text": [
      "+-------+--------------------+\n",
      "| osm_id|                 wkt|\n",
      "+-------+--------------------+\n",
      "|4326379|LINESTRING (21.01...|\n",
      "|4326702|LINESTRING (20.98...|\n",
      "|4308966|LINESTRING (20.99...|\n",
      "|4311409|LINESTRING (21.00...|\n",
      "|4315349|LINESTRING (21.00...|\n",
      "|4317242|LINESTRING (20.98...|\n",
      "+-------+--------------------+\n",
      "\n"
     ]
    },
    {
     "name": "stderr",
     "output_type": "stream",
     "text": [
      "                                                                                "
     ]
    }
   ],
   "source": [
    "sedona.read.\\\n",
    "    format(\"csv\").\\\n",
    "    option(\"header\", \"true\").\\\n",
    "    option(\"quote\", '\"').\\\n",
    "    load(\"s3a://sedona/vector/csv_wkt/wkt_file.csv\").\\\n",
    "    withColumn(\"wkt\", f.expr(\"ST_GeomFromText(wkt)\")).\\\n",
    "    show()\n"
   ]
  },
  {
   "cell_type": "markdown",
   "id": "6c9773aa-81f9-44f0-94a3-9b52599f1118",
   "metadata": {},
   "source": [
    "# Shapefile"
   ]
  },
  {
   "cell_type": "code",
   "execution_count": 4,
   "id": "0f91f4b4-3849-44fe-bf44-49fa252b7420",
   "metadata": {},
   "outputs": [
    {
     "name": "stderr",
     "output_type": "stream",
     "text": [
      "[Stage 6:>                                                          (0 + 1) / 1]"
     ]
    },
    {
     "name": "stdout",
     "output_type": "stream",
     "text": [
      "+-------+--------------------+\n",
      "| osm_id|            geometry|\n",
      "+-------+--------------------+\n",
      "|4307220|LINESTRING (21.01...|\n",
      "|4307329|LINESTRING (20.99...|\n",
      "|4307330|LINESTRING (20.99...|\n",
      "|4308966|LINESTRING (20.99...|\n",
      "|4308968|LINESTRING (21.01...|\n",
      "+-------+--------------------+\n",
      "only showing top 5 rows\n",
      "\n"
     ]
    },
    {
     "name": "stderr",
     "output_type": "stream",
     "text": [
      "                                                                                "
     ]
    }
   ],
   "source": [
    "sedona.\\\n",
    "    read.\\\n",
    "    format(\"shapefile\").\\\n",
    "    load(\"s3a://sedona/vector/shapefile\").\\\n",
    "    select(\"osm_id\", \"geometry\").\\\n",
    "    show(5)"
   ]
  },
  {
   "cell_type": "markdown",
   "id": "faea0359-2793-4256-99e1-0ee7432dc8fc",
   "metadata": {},
   "source": [
    "# GeoJSON"
   ]
  },
  {
   "cell_type": "code",
   "execution_count": 5,
   "id": "c10b1c83-672b-46b0-802c-714728466139",
   "metadata": {},
   "outputs": [
    {
     "name": "stderr",
     "output_type": "stream",
     "text": [
      "                                                                                "
     ]
    },
    {
     "name": "stdout",
     "output_type": "stream",
     "text": [
      "+--------------------+--------------------+-------------+-----------------+\n",
      "|                 crs|            features|         name|             type|\n",
      "+--------------------+--------------------+-------------+-----------------+\n",
      "|{{urn:ogc:def:crs...|[{MULTILINESTRING...|masovia_roads|FeatureCollection|\n",
      "+--------------------+--------------------+-------------+-----------------+\n",
      "\n"
     ]
    }
   ],
   "source": [
    "sedona.read.\\\n",
    "    format(\"geojson\").\\\n",
    "    option(\"multiLine\", \"true\").\\\n",
    "    load(\"s3a://sedona/vector/geojson/masovia_roads.geojson\").\\\n",
    "    show(5)"
   ]
  },
  {
   "cell_type": "code",
   "execution_count": 6,
   "id": "0690ca1e-9fd1-463c-a0d5-3ff8f6a76f5e",
   "metadata": {},
   "outputs": [
    {
     "name": "stderr",
     "output_type": "stream",
     "text": [
      "[Stage 10:>                                                         (0 + 1) / 1]"
     ]
    },
    {
     "name": "stdout",
     "output_type": "stream",
     "text": [
      "+--------------------+-------+\n",
      "|            geometry| osm_id|\n",
      "+--------------------+-------+\n",
      "|MULTILINESTRING (...|4307220|\n",
      "|MULTILINESTRING (...|4307329|\n",
      "|MULTILINESTRING (...|4307330|\n",
      "|MULTILINESTRING (...|4308966|\n",
      "|MULTILINESTRING (...|4308968|\n",
      "+--------------------+-------+\n",
      "only showing top 5 rows\n",
      "\n"
     ]
    },
    {
     "name": "stderr",
     "output_type": "stream",
     "text": [
      "                                                                                "
     ]
    }
   ],
   "source": [
    "sedona.read.\\\n",
    "    format(\"geojson\").\\\n",
    "    option(\"multiLine\", \"true\").\\\n",
    "    load(\"s3a://sedona/vector/geojson/masovia_roads.geojson\").\\\n",
    "    selectExpr(\"explode(features) as features\").\\\n",
    "    select(\"features.geometry\", \"features.properties.osm_id\").\\\n",
    "    show(5)\n"
   ]
  },
  {
   "cell_type": "markdown",
   "id": "02192b2f-bcdf-44e2-8ef1-1d279192964f",
   "metadata": {},
   "source": [
    "# Distributed GeoJSON"
   ]
  },
  {
   "cell_type": "code",
   "execution_count": 7,
   "id": "37d3e57a-7cb9-489a-a120-557ecbe13923",
   "metadata": {},
   "outputs": [
    {
     "name": "stderr",
     "output_type": "stream",
     "text": [
      "                                                                                "
     ]
    },
    {
     "name": "stdout",
     "output_type": "stream",
     "text": [
      "+--------------------+-------+\n",
      "|            geometry| osm_id|\n",
      "+--------------------+-------+\n",
      "|MULTILINESTRING (...|4311413|\n",
      "|MULTILINESTRING (...|4315349|\n",
      "|MULTILINESTRING (...|4307220|\n",
      "|MULTILINESTRING (...|4307329|\n",
      "|MULTILINESTRING (...|4307330|\n",
      "+--------------------+-------+\n",
      "only showing top 5 rows\n",
      "\n"
     ]
    }
   ],
   "source": [
    "sedona.read.\\\n",
    "    format(\"geojson\").\\\n",
    "    load(\"s3a://sedona/vector/geojson_distributes\").\\\n",
    "    selectExpr(\"geometry\", \"properties.osm_id\").\\\n",
    "    show(5)"
   ]
  },
  {
   "cell_type": "markdown",
   "id": "a8eadf4d-8201-46ac-91ec-97af907af16b",
   "metadata": {},
   "source": [
    "# Geopackage"
   ]
  },
  {
   "cell_type": "code",
   "execution_count": 8,
   "id": "5288cd4d-57c6-4a94-8a84-a6df883dd255",
   "metadata": {},
   "outputs": [
    {
     "name": "stderr",
     "output_type": "stream",
     "text": [
      "[Stage 13:>                                                         (0 + 1) / 1]"
     ]
    },
    {
     "name": "stdout",
     "output_type": "stream",
     "text": [
      "+--------------------+---------+------+\n",
      "|          table_name|data_type|srs_id|\n",
      "+--------------------+---------+------+\n",
      "|gis_osm_roads_free_1| features|  4326|\n",
      "+--------------------+---------+------+\n",
      "\n"
     ]
    },
    {
     "name": "stderr",
     "output_type": "stream",
     "text": [
      "                                                                                "
     ]
    }
   ],
   "source": [
    "sedona.read.\\\n",
    "    format(\"geopackage\").\\\n",
    "    option(\"showMetadata\", \"true\").\\\n",
    "    load(\"s3a://sedona/vector/geopackage\").\\\n",
    "    select(\"table_name\", \"data_type\", \"srs_id\").\\\n",
    "    show()"
   ]
  },
  {
   "cell_type": "code",
   "execution_count": 9,
   "id": "ffd8dff8-a065-49b0-bfa6-ab9cf9624d91",
   "metadata": {},
   "outputs": [
    {
     "name": "stdout",
     "output_type": "stream",
     "text": [
      "+-------+--------------------+\n",
      "| osm_id|                geom|\n",
      "+-------+--------------------+\n",
      "|4307220|MULTILINESTRING (...|\n",
      "|4307329|MULTILINESTRING (...|\n",
      "|4307330|MULTILINESTRING (...|\n",
      "|4308966|MULTILINESTRING (...|\n",
      "|4308968|MULTILINESTRING (...|\n",
      "+-------+--------------------+\n",
      "only showing top 5 rows\n",
      "\n"
     ]
    }
   ],
   "source": [
    "sedona.read.\\\n",
    "    format(\"geopackage\").\\\n",
    "    option(\"tableName\", \"gis_osm_roads_free_1\").\\\n",
    "    load(\"s3a://sedona/vector/geopackage\").\\\n",
    "    select(\"osm_id\", \"geom\").\\\n",
    "    show(5)\n"
   ]
  },
  {
   "cell_type": "markdown",
   "id": "ce2f284c-fbf6-4609-b2e0-d5a970ecacc3",
   "metadata": {},
   "source": [
    "# Geoparquet"
   ]
  },
  {
   "cell_type": "code",
   "execution_count": 10,
   "id": "3aaac724-64f1-4bb6-9602-9779be39fd82",
   "metadata": {},
   "outputs": [
    {
     "name": "stderr",
     "output_type": "stream",
     "text": [
      "[Stage 18:================================================>         (5 + 1) / 6]"
     ]
    },
    {
     "name": "stdout",
     "output_type": "stream",
     "text": [
      "+-------+--------------------+\n",
      "| osm_id|            geometry|\n",
      "+-------+--------------------+\n",
      "|4307220|LINESTRING (21.01...|\n",
      "|4307329|LINESTRING (20.99...|\n",
      "|4307330|LINESTRING (20.99...|\n",
      "|4308966|LINESTRING (20.99...|\n",
      "|4308968|LINESTRING (21.01...|\n",
      "+-------+--------------------+\n",
      "only showing top 5 rows\n",
      "\n"
     ]
    },
    {
     "name": "stderr",
     "output_type": "stream",
     "text": [
      "                                                                                "
     ]
    }
   ],
   "source": [
    "sedona.\\\n",
    "    read.\\\n",
    "    format(\"geoparquet\").\\\n",
    "    load(\"s3a://sedona/vector/geoparquet\").\\\n",
    "    select(\"osm_id\", \"geometry\").\\\n",
    "    show(5)\n"
   ]
  },
  {
   "cell_type": "code",
   "execution_count": null,
   "id": "db42e492-58c6-4938-84e9-355cef8c9908",
   "metadata": {},
   "outputs": [
    {
     "name": "stderr",
     "output_type": "stream",
     "text": [
      "[Stage 21:==========>                                            (11 + 11) / 59]"
     ]
    }
   ],
   "source": [
    "sedona.\\\n",
    "    read.\\\n",
    "    format(\"geoparquet\").\\\n",
    "    load(\"s3a://sedona/vector/overture_places\").\\\n",
    "    withColumn(\"geohash\", f.expr(\"ST_GeoHash(geometry, 5)\")).\\\n",
    "    orderBy(\"geohash\").\\\n",
    "    write.\\\n",
    "    mode(\"overwrite\").\\\n",
    "    format(\"geoparquet\").\\\n",
    "    save(\"s3a://sedona/vector/overture_places_sorted\")"
   ]
  },
  {
   "cell_type": "code",
   "execution_count": 17,
   "id": "ffb8f9d4-59f7-484b-9768-0c5ae106fd82",
   "metadata": {},
   "outputs": [
    {
     "name": "stdout",
     "output_type": "stream",
     "text": [
      "== Physical Plan ==\n",
      "AdaptiveSparkPlan isFinalPlan=false\n",
      "+- HashAggregate(keys=[name#2295], functions=[count(1)])\n",
      "   +- Exchange hashpartitioning(name#2295, 200), ENSURE_REQUIREMENTS, [plan_id=285]\n",
      "      +- HashAggregate(keys=[name#2295], functions=[partial_count(1)])\n",
      "         +- Project [brand#2276.names.primary AS name#2295]\n",
      "            +- Filter (isnotnull(geometry#2265) AND  **org.apache.spark.sql.sedona_sql.expressions.ST_Within**  )\n",
      "               +- FileScan geoparquet [geometry#2265,brand#2276] Batched: false, DataFilters: [isnotnull(geometry#2265),  **org.apache.spark.sql.sedona_sql.expressions.ST_Within**  ], Format: GeoParquet with spatial filter [geometry INTERSECTS POLYGON ((-123.425407 35.749839, -123.425407 ..., Location: InMemoryFileIndex(1 paths)[s3a://sedona/vector/overture_places_sorted], PartitionFilters: [], PushedFilters: [IsNotNull(geometry)], ReadSchema: struct<geometry:binary,brand:struct<names:struct<primary:string>>>\n",
      "\n",
      "\n"
     ]
    }
   ],
   "source": [
    "sedona.read.\\\n",
    "    format(\"geoparquet\").\\\n",
    "    load(\"s3a://sedona/vector/overture_places_sorted\").\\\n",
    "    where(\"ST_Within(geometry, ST_PolygonFromEnvelope(-123.425407, 35.749839, -118.763583, 41.806623))\").\\\n",
    "    selectExpr(\"brand.names.primary as name\").\\\n",
    "    groupBy(\"name\").\\\n",
    "    count().\\\n",
    "    explain()"
   ]
  },
  {
   "cell_type": "code",
   "execution_count": null,
   "id": "1c10be99-3e39-41c0-acac-c7d0d3c9805f",
   "metadata": {},
   "outputs": [],
   "source": []
  }
 ],
 "metadata": {
  "kernelspec": {
   "display_name": "Python 3 (ipykernel)",
   "language": "python",
   "name": "python3"
  },
  "language_info": {
   "codemirror_mode": {
    "name": "ipython",
    "version": 3
   },
   "file_extension": ".py",
   "mimetype": "text/x-python",
   "name": "python",
   "nbconvert_exporter": "python",
   "pygments_lexer": "ipython3",
   "version": "3.12.6"
  }
 },
 "nbformat": 4,
 "nbformat_minor": 5
}
