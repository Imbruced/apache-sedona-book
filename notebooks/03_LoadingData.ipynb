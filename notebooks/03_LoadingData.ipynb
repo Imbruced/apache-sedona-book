{
 "cells": [
  {
   "cell_type": "markdown",
   "id": "b6d08b26-469c-48e3-ace7-fe2121e92392",
   "metadata": {
    "tags": []
   },
   "source": [
    "# Loading Data"
   ]
  },
  {
   "cell_type": "code",
   "execution_count": null,
   "id": "b11cb3b8-0612-489a-8694-a24be9d5ac7c",
   "metadata": {
    "tags": []
   },
   "outputs": [],
   "source": [
    "from sedona.spark import *\n",
    "\n",
    "config = SedonaContext.builder(). \\\n",
    "    config(\"spark.hadoop.fs.s3a.bucket.wherobots-examples.aws.credentials.provider\",\n",
    "           \"org.apache.hadoop.fs.s3a.AnonymousAWSCredentialsProvider\"). \\\n",
    "    getOrCreate()\n",
    "\n",
    "sedona = SedonaContext.create(config)"
   ]
  },
  {
   "cell_type": "markdown",
   "id": "3b739b00-5fb5-4893-a120-b18d64e86f02",
   "metadata": {},
   "source": [
    "## Loading Common Vector Data Formats"
   ]
  },
  {
   "cell_type": "markdown",
   "id": "061dcfb1-a00b-46fd-83ad-614bfb531a17",
   "metadata": {},
   "source": [
    "### Loading A CSV File From A Public S3 Bucket"
   ]
  },
  {
   "cell_type": "code",
   "execution_count": null,
   "id": "e326ccb7-922b-4ae0-bb9e-82daaabdb311",
   "metadata": {
    "tags": []
   },
   "outputs": [],
   "source": [
    "S3_CSV_URL = \"s3a://wherobots-examples/data/examples/birdbuddy_oct23.csv\"\n",
    "bb_df = sedona.read.format('csv'). \\\n",
    "    option('header', 'true'). \\\n",
    "    option('delimiter', ','). \\\n",
    "    option('inferSchema', 'true'). \\\n",
    "    load(S3_CSV_URL)\n",
    "\n",
    "bb_df = bb_df.selectExpr(\n",
    "    'ST_Point(anonymized_longitude, anonymized_latitude) AS location', \n",
    "    'timestamp', \n",
    "    'common_name', \n",
    "    'scientific_name')\n",
    "\n",
    "bb_df.sample(0.001).cache().createOrReplaceTempView('bb')\n",
    "bb_df.show(truncate=False)"
   ]
  },
  {
   "cell_type": "code",
   "execution_count": null,
   "id": "f55f7e24-0275-4f0a-9348-be1e190a38d5",
   "metadata": {},
   "outputs": [],
   "source": [
    "SedonaKepler.create_map(df=bb_df.sample(0.001), name=\"Bird Species\")"
   ]
  },
  {
   "cell_type": "code",
   "execution_count": null,
   "id": "665eeea7-f2c1-48fa-a759-feadc8f48d50",
   "metadata": {},
   "outputs": [],
   "source": []
  },
  {
   "cell_type": "markdown",
   "id": "90d713ab-ee59-4cee-bd39-04be43ffd1e6",
   "metadata": {},
   "source": [
    "## GeoJSON"
   ]
  },
  {
   "cell_type": "code",
   "execution_count": null,
   "id": "204fa107-7902-4a0e-9286-3aab376f64e2",
   "metadata": {},
   "outputs": [],
   "source": [
    "S3_URL_JSON = \"s3://wherobots-examples/data/examples/usgs/watershed_boundaries_huc6.geojson\""
   ]
  },
  {
   "cell_type": "code",
   "execution_count": null,
   "id": "b9c4ac35-0c5c-4389-a099-32d2df5dac78",
   "metadata": {},
   "outputs": [],
   "source": [
    "watershed_df = sedona.read.format(\"geojson\"). \\\n",
    "    option(\"multiLine\", \"true\"). \\\n",
    "    load(S3_URL_JSON). \\\n",
    "    selectExpr(\"explode(features) as features\"). \\\n",
    "    select(\"features.*\")\n",
    "watershed_df.createOrReplaceTempView(\"watersheds\")\n",
    "watershed_df.printSchema()"
   ]
  },
  {
   "cell_type": "code",
   "execution_count": null,
   "id": "22eea636-bdc7-492c-8f6f-6aed549f3611",
   "metadata": {},
   "outputs": [],
   "source": [
    "california_df = sedona.sql(\"\"\"\n",
    "SELECT geometry, properties.name, properties.huc6\n",
    "FROM watersheds\n",
    "WHERE properties.states LIKE \"%CA%\"\n",
    "\"\"\")\n",
    "\n",
    "california_df.createOrReplaceTempView(\"ca_watersheds\")\n",
    "\n",
    "SedonaKepler.create_map(df=california_df.cache(), name=\"California Watersheds\")"
   ]
  },
  {
   "cell_type": "markdown",
   "id": "94793121-c136-4e99-a1c1-f6fd5a6f78b6",
   "metadata": {},
   "source": [
    "## Shapefiles"
   ]
  },
  {
   "cell_type": "code",
   "execution_count": null,
   "id": "2682a516-55c1-41cf-9880-4300c2fdc3e6",
   "metadata": {},
   "outputs": [],
   "source": []
  },
  {
   "cell_type": "code",
   "execution_count": null,
   "id": "cfbfcf61-0864-48f4-96cc-04c8808ca2a4",
   "metadata": {},
   "outputs": [],
   "source": [
    "S3_URL_SHAPEFILE = \"s3://wherobots-examples/data/examples/natural_earth/ne_10m_admin_0_countries/\"\n",
    "\n",
    "spatialRDD = ShapefileReader.readToGeometryRDD(sedona, S3_URL_SHAPEFILE)\n",
    "countries_df = Adapter.toDf(spatialRDD, sedona)\n",
    "countries_df.printSchema()\n",
    "countries_df.createOrReplaceTempView(\"countries\")"
   ]
  },
  {
   "cell_type": "code",
   "execution_count": null,
   "id": "15d21ae1-ed42-48b2-8b5a-dba1fff51f7f",
   "metadata": {},
   "outputs": [],
   "source": [
    "SedonaKepler.create_map(df=countries_df, name=\"Countries\")\n"
   ]
  },
  {
   "cell_type": "markdown",
   "id": "84dd4155-3cd8-44a7-9870-c26da7befc8d",
   "metadata": {},
   "source": [
    "## Raster Data - GeoTiff"
   ]
  },
  {
   "cell_type": "code",
   "execution_count": null,
   "id": "541f7e20-5740-4afa-9a0a-860ec126cfd3",
   "metadata": {},
   "outputs": [],
   "source": [
    "ortho_url = \"s3://wherobots-examples/data/examples/NEON_ortho.tif\"\n",
    "ortho_df = sedona.sql(f\"SELECT RS_FromPath('{ortho_url}') AS raster\")\n",
    "ortho_df.createOrReplaceTempView(\"ortho\")\n",
    "ortho_df.show(truncate=False)"
   ]
  },
  {
   "cell_type": "code",
   "execution_count": null,
   "id": "05cff358-0879-4684-848d-59c25099fb6b",
   "metadata": {},
   "outputs": [],
   "source": [
    "htmlDf = sedona.sql(\"SELECT RS_AsImage(raster) FROM ortho\")\n",
    "SedonaUtils.display_image(htmlDf)"
   ]
  },
  {
   "cell_type": "code",
   "execution_count": null,
   "id": "085c4a65-8799-4232-9927-9c144c3e9b31",
   "metadata": {},
   "outputs": [],
   "source": [
    "sedona.sql(\"SELECT RS_NumBands(raster) FROM ortho\").show()\n"
   ]
  },
  {
   "cell_type": "code",
   "execution_count": null,
   "id": "9542f22e-0470-4931-9b60-3ce2c4014efc",
   "metadata": {},
   "outputs": [],
   "source": [
    "ndgi_df = sedona.sql(\"\"\"\n",
    "SELECT RS_MapAlgebra(raster, 'D', 'out = (rast[1] - rast[0]) / (rast[1] + rast[0]);')\n",
    "AS ndgi \n",
    "FROM ortho\n",
    "\"\"\")"
   ]
  },
  {
   "cell_type": "code",
   "execution_count": null,
   "id": "d550aaa7-bb85-4531-b39a-84f3f7df253b",
   "metadata": {},
   "outputs": [],
   "source": []
  },
  {
   "cell_type": "markdown",
   "id": "f90dbc26-3a64-4a3b-aa7e-6cbf8a8b347d",
   "metadata": {},
   "source": [
    "## Writing Files"
   ]
  },
  {
   "cell_type": "code",
   "execution_count": null,
   "id": "e942477e-efc4-42c4-8bbb-d1c43cfbc116",
   "metadata": {},
   "outputs": [],
   "source": [
    "birdshed_df = sedona.sql(\"\"\"\n",
    "SELECT \n",
    "    COUNT(*) AS num, \n",
    "    any_value(countries.geometry) AS geometry, \n",
    "    any_value(countries.NAME_EN) AS name\n",
    "FROM bb, countries\n",
    "WHERE ST_Contains(countries.geometry, bb.location) \n",
    "GROUP BY countries.NAME_EN\n",
    "ORDER BY num DESC\n",
    "\"\"\")\n",
    "\n",
    "birdshed_df.show()"
   ]
  },
  {
   "cell_type": "code",
   "execution_count": null,
   "id": "b0c6fc6c-bf43-4829-bf74-745959220986",
   "metadata": {},
   "outputs": [],
   "source": [
    "import os\n",
    "USER_S3_PATH = os.environ.get(\"USER_S3_PATH\")"
   ]
  },
  {
   "cell_type": "code",
   "execution_count": null,
   "id": "4b9cd86f-4911-4d4c-a810-5fe010d184b8",
   "metadata": {},
   "outputs": [],
   "source": [
    "birdshed_df.repartition(1).write.mode(\"overwrite\"). \\\n",
    "    format(\"geoparquet\"). \\\n",
    "    save(USER_S3_PATH + \"geoparquet/birdshed.parquet\")"
   ]
  },
  {
   "cell_type": "code",
   "execution_count": null,
   "id": "373552d2-7466-46cd-8e84-2b9ae620ce68",
   "metadata": {},
   "outputs": [],
   "source": []
  }
 ],
 "metadata": {
  "kernelspec": {
   "display_name": "Python 3 (ipykernel)",
   "language": "python",
   "name": "python3"
  },
  "language_info": {
   "codemirror_mode": {
    "name": "ipython",
    "version": 3
   },
   "file_extension": ".py",
   "mimetype": "text/x-python",
   "name": "python",
   "nbconvert_exporter": "python",
   "pygments_lexer": "ipython3",
   "version": "3.10.11"
  }
 },
 "nbformat": 4,
 "nbformat_minor": 5
}
