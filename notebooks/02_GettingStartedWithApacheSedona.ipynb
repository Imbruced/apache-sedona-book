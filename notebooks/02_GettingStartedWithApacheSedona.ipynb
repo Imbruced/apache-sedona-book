{
 "cells": [
  {
   "cell_type": "markdown",
   "id": "2fd073ae-b399-4080-a003-c888c7e3a5d8",
   "metadata": {},
   "source": [
    "# Getting Started With Apache Sedona"
   ]
  },
  {
   "cell_type": "code",
   "execution_count": null,
   "id": "1899a119-fa55-40d4-bbc5-f0a3dd266e95",
   "metadata": {
    "tags": []
   },
   "outputs": [],
   "source": [
    "from sedona.spark import *\n",
    "\n",
    "config = SedonaContext.builder().getOrCreate()\n",
    "sedona = SedonaContext.create(config)"
   ]
  },
  {
   "cell_type": "markdown",
   "id": "13bfdcbf-ebd4-4454-b2ce-88c9210aeccc",
   "metadata": {},
   "source": [
    "## The Spatial DataFrame"
   ]
  },
  {
   "cell_type": "code",
   "execution_count": null,
   "id": "9755790e-eac6-4ca5-85e4-ad6a38ffb2b4",
   "metadata": {
    "tags": []
   },
   "outputs": [],
   "source": [
    "cities_df = sedona.createDataFrame(\n",
    "    [\n",
    "        (\"San Francisco\", -122.4191, 37.7749), \n",
    "        (\"New York\", -74.0060, 40.7128), \n",
    "        (\"Austin\", -97.7431, 30.2672)\n",
    "    ], \n",
    "    [\"city\", \"longitude\", \"latitude\"])\n",
    "\n",
    "cities_df.show()"
   ]
  },
  {
   "cell_type": "code",
   "execution_count": null,
   "id": "f008219b-7788-4794-9cd2-6c8cef9e125f",
   "metadata": {},
   "outputs": [],
   "source": []
  },
  {
   "cell_type": "code",
   "execution_count": null,
   "id": "a7577e02-ca78-489f-abd8-e256e7742b2c",
   "metadata": {
    "tags": []
   },
   "outputs": [],
   "source": [
    "cities_df.printSchema()"
   ]
  },
  {
   "cell_type": "code",
   "execution_count": null,
   "id": "1ca34c9f-1ffe-4f24-8008-fbb3a5458812",
   "metadata": {},
   "outputs": [],
   "source": []
  },
  {
   "cell_type": "markdown",
   "id": "aac819ef-7594-4b64-b541-c2b4d187eda0",
   "metadata": {
    "tags": []
   },
   "source": [
    "## Introduction To Spatial SQL"
   ]
  },
  {
   "cell_type": "code",
   "execution_count": null,
   "id": "3ff09b37-382e-45aa-bddf-38ae62743c54",
   "metadata": {},
   "outputs": [],
   "source": []
  },
  {
   "cell_type": "code",
   "execution_count": null,
   "id": "c935ec9b-0fbb-48c1-93f1-3419a52cfafe",
   "metadata": {
    "tags": []
   },
   "outputs": [],
   "source": [
    "cities_df.createOrReplaceTempView(\"cities\")"
   ]
  },
  {
   "cell_type": "code",
   "execution_count": null,
   "id": "7ba466e5-b7c7-415b-8be4-a8b2b3d6b76b",
   "metadata": {},
   "outputs": [],
   "source": []
  },
  {
   "cell_type": "code",
   "execution_count": null,
   "id": "9394c5d8-165a-4e75-baad-b963ceb5dd0c",
   "metadata": {
    "tags": []
   },
   "outputs": [],
   "source": [
    "cities_df = sedona.sql(\"\"\"\n",
    "SELECT *, ST_Point(longitude, latitude) AS geometry\n",
    "FROM cities\n",
    "\"\"\")\n",
    "\n",
    "cities_df.show(truncate=False)"
   ]
  },
  {
   "cell_type": "code",
   "execution_count": null,
   "id": "5f2c7686-41ca-4411-b7e4-e8a27290d1a6",
   "metadata": {
    "tags": []
   },
   "outputs": [],
   "source": [
    "cities_df.printSchema()"
   ]
  },
  {
   "cell_type": "code",
   "execution_count": null,
   "id": "59c53e6b-7c75-49e2-aa99-eafb9bb41b52",
   "metadata": {},
   "outputs": [],
   "source": []
  },
  {
   "cell_type": "code",
   "execution_count": null,
   "id": "1bccf686-44cd-40a7-8f5e-a8313f32cd83",
   "metadata": {
    "tags": []
   },
   "outputs": [],
   "source": [
    "cities_df.createOrReplaceTempView(\"cities\")"
   ]
  },
  {
   "cell_type": "code",
   "execution_count": null,
   "id": "99ed0b7a-c6cf-4059-9931-a4d9bb1e5e5c",
   "metadata": {},
   "outputs": [],
   "source": []
  },
  {
   "cell_type": "code",
   "execution_count": null,
   "id": "a404a191-4037-4812-ab68-dad6c9f839bc",
   "metadata": {},
   "outputs": [],
   "source": []
  },
  {
   "cell_type": "code",
   "execution_count": null,
   "id": "bf336ac1-bb2b-4030-b424-f0489ed9c6a7",
   "metadata": {},
   "outputs": [],
   "source": []
  },
  {
   "cell_type": "code",
   "execution_count": null,
   "id": "9323c02d-2f61-4baa-8352-bc8cd3533169",
   "metadata": {},
   "outputs": [],
   "source": []
  },
  {
   "cell_type": "code",
   "execution_count": null,
   "id": "b856cdc5-4308-47ce-a602-052637f02538",
   "metadata": {},
   "outputs": [],
   "source": []
  },
  {
   "cell_type": "code",
   "execution_count": null,
   "id": "eda9f5c3-d9b1-4643-88d1-0d253d3c884b",
   "metadata": {
    "tags": []
   },
   "outputs": [],
   "source": [
    "buffer_df = sedona.sql(\"\"\"\n",
    "SELECT city, ST_Buffer(geometry, 1000, true) AS geometry\n",
    "FROM cities\n",
    "\"\"\")\n",
    "\n",
    "buffer_df.show()"
   ]
  },
  {
   "cell_type": "code",
   "execution_count": null,
   "id": "242bdb11-085b-4fe0-a06e-055c32d8f96c",
   "metadata": {},
   "outputs": [],
   "source": []
  },
  {
   "cell_type": "markdown",
   "id": "fc679717-efa9-4c0b-a80c-e32c42fe32ce",
   "metadata": {},
   "source": [
    "## Working With The DataFrame API"
   ]
  },
  {
   "cell_type": "code",
   "execution_count": null,
   "id": "c6b41772-314a-4752-8dc0-8beb78526827",
   "metadata": {},
   "outputs": [],
   "source": []
  },
  {
   "cell_type": "markdown",
   "id": "f4cbbd0a-d06e-4c60-b1aa-eb031dd3cc70",
   "metadata": {
    "tags": []
   },
   "source": [
    "```\n",
    "SELECT ST_Makeline(collect_list(geometry)) AS geometry\n",
    "FROM cities\n",
    "```"
   ]
  },
  {
   "cell_type": "code",
   "execution_count": null,
   "id": "f4b33e84-5af2-450a-9d00-81d96d4e8d2b",
   "metadata": {},
   "outputs": [],
   "source": []
  },
  {
   "cell_type": "code",
   "execution_count": null,
   "id": "1a3c2eb0-5912-418b-b04a-f98e036096e7",
   "metadata": {
    "tags": []
   },
   "outputs": [],
   "source": [
    "from sedona.sql.st_functions import ST_MakeLine\n",
    "from pyspark.sql.functions import collect_list, col\n",
    "\n",
    "route_df = cities_df.select(ST_MakeLine(collect_list(col(\"geometry\"))).alias(\"geometry\"))\n",
    "\n",
    "route_df.show(truncate=False)"
   ]
  },
  {
   "cell_type": "code",
   "execution_count": null,
   "id": "f5f654cc-3f87-4e3d-9ff6-c591493f0aff",
   "metadata": {},
   "outputs": [],
   "source": []
  },
  {
   "cell_type": "markdown",
   "id": "11218e8d-bf60-4b3a-81d1-be9ef51aba6a",
   "metadata": {
    "tags": []
   },
   "source": [
    "## Visualizing Data"
   ]
  },
  {
   "cell_type": "code",
   "execution_count": null,
   "id": "bfb9a521-8b9a-477b-a2d6-41d87f64dee8",
   "metadata": {},
   "outputs": [],
   "source": []
  },
  {
   "cell_type": "code",
   "execution_count": null,
   "id": "8c438998-0dcd-4cfd-9412-dcc42ac82422",
   "metadata": {
    "tags": []
   },
   "outputs": [],
   "source": [
    "SedonaKepler.create_map(cities_df, \"Cities\")"
   ]
  },
  {
   "cell_type": "code",
   "execution_count": null,
   "id": "5a74fb71-41e1-4519-a5d0-f99cf24727c4",
   "metadata": {},
   "outputs": [],
   "source": []
  },
  {
   "cell_type": "code",
   "execution_count": null,
   "id": "51ec46ca-b88f-499b-8962-0d2bdce10774",
   "metadata": {
    "tags": []
   },
   "outputs": [],
   "source": [
    "mapview = SedonaKepler.create_map(cities_df, \"Cities\")\n",
    "SedonaKepler.add_df(mapview, buffer_df, \"City Buffer\")\n",
    "SedonaKepler.add_df(mapview, route_df, \"City Route\")\n",
    "mapview"
   ]
  },
  {
   "cell_type": "code",
   "execution_count": null,
   "id": "59e5327a-25e3-4482-86f5-2898e0ec0d6c",
   "metadata": {},
   "outputs": [],
   "source": []
  },
  {
   "cell_type": "markdown",
   "id": "7ec5b4ee-1bd3-43ae-967a-a07f0713e065",
   "metadata": {},
   "source": [
    "## Exercises"
   ]
  },
  {
   "cell_type": "markdown",
   "id": "9789281d-19bb-4017-87fd-e9e0d5cc546d",
   "metadata": {
    "tags": []
   },
   "source": [
    "1. Create a free Wherobots Cloud account. After signing in, create a tiny Sedona runtime and open the notebook environment. Run all cells in the example \"First Wherobots Cloud Notebook\". \n",
    "2. Read the documentation for spatial SQL functions supported in Apache Sedona. Choose a function to manipulate the +geometry+ column of the `cities_df` DataFrame. What is the input to the function? What is the output?\n",
    "3. Using SedonaKepler, visualize the results of Exercise 2. Can you visualize this data along with the original `cities_df` DataFrame."
   ]
  },
  {
   "cell_type": "code",
   "execution_count": null,
   "id": "fe6a2844-3a2e-4b16-8026-35a07d90ae9d",
   "metadata": {},
   "outputs": [],
   "source": []
  }
 ],
 "metadata": {
  "kernelspec": {
   "display_name": "Python 3 (ipykernel)",
   "language": "python",
   "name": "python3"
  },
  "language_info": {
   "codemirror_mode": {
    "name": "ipython",
    "version": 3
   },
   "file_extension": ".py",
   "mimetype": "text/x-python",
   "name": "python",
   "nbconvert_exporter": "python",
   "pygments_lexer": "ipython3",
   "version": "3.10.11"
  },
  "widgets": {
   "application/vnd.jupyter.widget-state+json": {
    "state": {
     "1f9aba9513654ff1b75c711a37112533": {
      "model_module": "keplergl-jupyter",
      "model_module_version": "^0.3.2",
      "model_name": "KeplerGlModal",
      "state": {
       "_model_module_version": "^0.3.2",
       "_view_module_version": "^0.3.2",
       "config": {
        "config": {
         "mapState": {
          "bearing": 0,
          "dragRotate": false,
          "isSplit": false,
          "latitude": 35.48999262647405,
          "longitude": -98.21230867207527,
          "pitch": 0,
          "zoom": 3
         },
         "mapStyle": {
          "mapStyles": {},
          "styleType": "dark",
          "threeDBuildingColor": [
           9.665468314072013,
           17.18305478057247,
           31.1442867897876
          ],
          "topLayerGroups": {},
          "visibleLayerGroups": {
           "3d building": false,
           "border": false,
           "building": true,
           "label": true,
           "land": true,
           "road": true,
           "water": true
          }
         },
         "visState": {
          "animationConfig": {
           "currentTime": null,
           "speed": 1
          },
          "filters": [],
          "interactionConfig": {
           "brush": {
            "enabled": false,
            "size": 0.5
           },
           "coordinate": {
            "enabled": false
           },
           "geocoder": {
            "enabled": false
           },
           "tooltip": {
            "compareMode": false,
            "compareType": "absolute",
            "enabled": true,
            "fieldsToShow": {
             "Cities": [
              {
               "format": null,
               "name": "city"
              }
             ],
             "City Buffer": [
              {
               "format": null,
               "name": "city"
              }
             ],
             "City Route": []
            }
           }
          },
          "layerBlending": "normal",
          "layers": [
           {
            "config": {
             "color": [
              136,
              87,
              44
             ],
             "columns": {
              "altitude": null,
              "lat": "latitude",
              "lng": "longitude"
             },
             "dataId": "Cities",
             "hidden": false,
             "highlightColor": [
              252,
              242,
              26,
              255
             ],
             "isVisible": true,
             "label": "Point",
             "textLabel": [
              {
               "alignment": "center",
               "anchor": "start",
               "color": [
                255,
                255,
                255
               ],
               "field": null,
               "offset": [
                0,
                0
               ],
               "size": 18
              }
             ],
             "visConfig": {
              "colorRange": {
               "category": "Uber",
               "colors": [
                "#5A1846",
                "#900C3F",
                "#C70039",
                "#E3611C",
                "#F1920E",
                "#FFC300"
               ],
               "name": "Global Warming",
               "type": "sequential"
              },
              "filled": true,
              "fixedRadius": false,
              "opacity": 0.8,
              "outline": false,
              "radius": 10,
              "radiusRange": [
               0,
               50
              ],
              "strokeColor": null,
              "strokeColorRange": {
               "category": "Uber",
               "colors": [
                "#5A1846",
                "#900C3F",
                "#C70039",
                "#E3611C",
                "#F1920E",
                "#FFC300"
               ],
               "name": "Global Warming",
               "type": "sequential"
              },
              "thickness": 2
             }
            },
            "id": "tyxq62s",
            "type": "point",
            "visualChannels": {
             "colorField": null,
             "colorScale": "quantile",
             "sizeField": null,
             "sizeScale": "linear",
             "strokeColorField": null,
             "strokeColorScale": "quantile"
            }
           },
           {
            "config": {
             "color": [
              255,
              153,
              31
             ],
             "columns": {
              "geojson": "geometry"
             },
             "dataId": "Cities",
             "hidden": false,
             "highlightColor": [
              252,
              242,
              26,
              255
             ],
             "isVisible": true,
             "label": "Cities",
             "textLabel": [
              {
               "alignment": "center",
               "anchor": "start",
               "color": [
                255,
                255,
                255
               ],
               "field": null,
               "offset": [
                0,
                0
               ],
               "size": 18
              }
             ],
             "visConfig": {
              "colorRange": {
               "category": "Uber",
               "colors": [
                "#5A1846",
                "#900C3F",
                "#C70039",
                "#E3611C",
                "#F1920E",
                "#FFC300"
               ],
               "name": "Global Warming",
               "type": "sequential"
              },
              "elevationScale": 5,
              "enable3d": false,
              "enableElevationZoomFactor": true,
              "filled": true,
              "heightRange": [
               0,
               500
              ],
              "opacity": 0.8,
              "radius": 10,
              "radiusRange": [
               0,
               50
              ],
              "sizeRange": [
               0,
               10
              ],
              "strokeColor": null,
              "strokeColorRange": {
               "category": "Uber",
               "colors": [
                "#5A1846",
                "#900C3F",
                "#C70039",
                "#E3611C",
                "#F1920E",
                "#FFC300"
               ],
               "name": "Global Warming",
               "type": "sequential"
              },
              "strokeOpacity": 0.8,
              "stroked": false,
              "thickness": 0.5,
              "wireframe": false
             }
            },
            "id": "tyevd0wj",
            "type": "geojson",
            "visualChannels": {
             "colorField": null,
             "colorScale": "quantile",
             "heightField": null,
             "heightScale": "linear",
             "radiusField": null,
             "radiusScale": "linear",
             "sizeField": null,
             "sizeScale": "linear",
             "strokeColorField": null,
             "strokeColorScale": "quantile"
            }
           },
           {
            "config": {
             "color": [
              241,
              92,
              23
             ],
             "columns": {
              "geojson": "geometry"
             },
             "dataId": "City Buffer",
             "hidden": false,
             "highlightColor": [
              252,
              242,
              26,
              255
             ],
             "isVisible": true,
             "label": "City Buffer",
             "textLabel": [
              {
               "alignment": "center",
               "anchor": "start",
               "color": [
                255,
                255,
                255
               ],
               "field": null,
               "offset": [
                0,
                0
               ],
               "size": 18
              }
             ],
             "visConfig": {
              "colorRange": {
               "category": "Uber",
               "colors": [
                "#5A1846",
                "#900C3F",
                "#C70039",
                "#E3611C",
                "#F1920E",
                "#FFC300"
               ],
               "name": "Global Warming",
               "type": "sequential"
              },
              "elevationScale": 5,
              "enable3d": false,
              "enableElevationZoomFactor": true,
              "filled": true,
              "heightRange": [
               0,
               500
              ],
              "opacity": 0.8,
              "radius": 10,
              "radiusRange": [
               0,
               50
              ],
              "sizeRange": [
               0,
               10
              ],
              "strokeColor": [
               34,
               63,
               154
              ],
              "strokeColorRange": {
               "category": "Uber",
               "colors": [
                "#5A1846",
                "#900C3F",
                "#C70039",
                "#E3611C",
                "#F1920E",
                "#FFC300"
               ],
               "name": "Global Warming",
               "type": "sequential"
              },
              "strokeOpacity": 0.8,
              "stroked": true,
              "thickness": 0.5,
              "wireframe": false
             }
            },
            "id": "2cktshs",
            "type": "geojson",
            "visualChannels": {
             "colorField": null,
             "colorScale": "quantile",
             "heightField": null,
             "heightScale": "linear",
             "radiusField": null,
             "radiusScale": "linear",
             "sizeField": null,
             "sizeScale": "linear",
             "strokeColorField": null,
             "strokeColorScale": "quantile"
            }
           },
           {
            "config": {
             "color": [
              218,
              112,
              191
             ],
             "columns": {
              "geojson": "geometry"
             },
             "dataId": "City Route",
             "hidden": false,
             "highlightColor": [
              252,
              242,
              26,
              255
             ],
             "isVisible": true,
             "label": "City Route",
             "textLabel": [
              {
               "alignment": "center",
               "anchor": "start",
               "color": [
                255,
                255,
                255
               ],
               "field": null,
               "offset": [
                0,
                0
               ],
               "size": 18
              }
             ],
             "visConfig": {
              "colorRange": {
               "category": "Uber",
               "colors": [
                "#5A1846",
                "#900C3F",
                "#C70039",
                "#E3611C",
                "#F1920E",
                "#FFC300"
               ],
               "name": "Global Warming",
               "type": "sequential"
              },
              "elevationScale": 5,
              "enable3d": false,
              "enableElevationZoomFactor": true,
              "filled": false,
              "heightRange": [
               0,
               500
              ],
              "opacity": 0.8,
              "radius": 10,
              "radiusRange": [
               0,
               50
              ],
              "sizeRange": [
               0,
               10
              ],
              "strokeColor": null,
              "strokeColorRange": {
               "category": "Uber",
               "colors": [
                "#5A1846",
                "#900C3F",
                "#C70039",
                "#E3611C",
                "#F1920E",
                "#FFC300"
               ],
               "name": "Global Warming",
               "type": "sequential"
              },
              "strokeOpacity": 0.8,
              "stroked": true,
              "thickness": 0.5,
              "wireframe": false
             }
            },
            "id": "g9hd7p4",
            "type": "geojson",
            "visualChannels": {
             "colorField": null,
             "colorScale": "quantile",
             "heightField": null,
             "heightScale": "linear",
             "radiusField": null,
             "radiusScale": "linear",
             "sizeField": null,
             "sizeScale": "linear",
             "strokeColorField": null,
             "strokeColorScale": "quantile"
            }
           }
          ],
          "splitMaps": []
         }
        },
        "version": "v1"
       },
       "data": {
        "Cities": {
         "columns": [
          "city",
          "longitude",
          "latitude",
          "geometry"
         ],
         "data": [
          [
           "San Francisco",
           -122.4191,
           37.7749,
           "POINT (-122.4191000000000003 37.7749000000000024)"
          ],
          [
           "New York",
           -74.006,
           40.7128,
           "POINT (-74.0060000000000002 40.7128000000000014)"
          ],
          [
           "Austin",
           -97.7431,
           30.2672,
           "POINT (-97.7430999999999983 30.2671999999999990)"
          ]
         ],
         "index": [
          0,
          1,
          2
         ]
        },
        "City Buffer": {
         "columns": [
          "city",
          "geometry"
         ],
         "data": [
          [
           "San Francisco",
           "POLYGON ((-122.4077453539590579 37.7748434769901067, -122.4079775510300152 37.7730862702068393, -122.4086371458854501 37.7713987813893652, -122.4096987656219966 37.7698458527863394, -122.4111215963849446 37.7684871523793930, -122.4128509543158287 37.7673748824280153, -122.4148203878219192 37.7665517751670876, -122.4169542302579430 37.7660494524073727, -122.4191705050766785 37.7658872118083551, -122.4213840722130158 37.7660712862415551, -122.4235098953844130 37.7665946045602183, -122.4254663054446297 37.7674370629243299, -122.4271781350721824 37.7685662963169122, -122.4285796049089328 37.7699389207642398, -122.4296168506159859 37.7715021987574886, -122.4302499938582400 37.7731960641482516, -122.4304546774767601 37.7749554289727527, -122.4302230054493492 37.7767126837805947, -122.4295638509184698 37.7784002955293801, -122.4285025197521719 37.7799534032552700, -122.4270797818729051 37.7813123117068272, -122.4253503069984390 37.7824247869516441, -122.4233805645250754 37.7832480655007572, -122.4212462681355760 37.7837504994663504, -122.4190294634874476 37.7839127742588303, -122.4168153713075355 37.7837286518010629, -122.4146891078115544 37.7832052105510812, -122.4127324091811175 37.7823625730640913, -122.4110204866699121 37.7812331316268981, -122.4096191337768147 37.7798603018861456, -122.4085821970370063 37.7782968526047185, -122.4079495077482278 37.7766028760080701, -122.4077453539590579 37.7748434769901067))"
          ],
          [
           "New York",
           "POLYGON ((-73.9941626666737875 40.7126974567185371, -73.9944165562100409 40.7109422014155058, -73.9951155530532816 40.7092583592840356, -73.9962327664698876 40.7077106314373651, -73.9977252440422291 40.7063584847218891, -73.9995356251235705 40.7052538681854301, -74.0015943460202692 40.7044392187120962, -74.0038223120300671 40.7039458321606844, -74.0061339338429036 40.7037926623042168, -74.0084404120990484 40.7039855934805033, -74.0106531445784270 40.7045172147483427, -74.0126871258938479 40.7053671041844964, -74.0144642098362908 40.7065026124725335, -74.0159161096655964 40.7078801158549197, -74.0169870214773340 40.7094466905629062, -74.0176357699616148 40.7111421446820287, -74.0178373939053671 40.7129013296684406, -74.0175841100283947 40.7146566429336829, -74.0168856174156105 40.7163406254828359, -74.0157687300361573 40.7178885548253646, -74.0142763506714658 40.7192409334389538, -74.0124658250170313 40.7203457769713850, -74.0104067387764246 40.7211606139804587, -74.0081782422722085 40.7216541200567903, -74.0058660055773885 40.7218073232307560, -74.0035589216619343 40.7216143340922514, -74.0013456849520850 40.7210825724067149, -73.9993113775995113 40.7202324814746888, -73.9975341954494752 40.7190967412885456, -73.9960824401933053 40.7177190109102014, -73.9950118937254899 40.7161522486664609, -73.9943636757356131 40.7144566750224470, -73.9941626666737875 40.7126974567185371))"
          ],
          [
           "Austin",
           "POLYGON ((-97.7327062577577834 30.2670998145410834, -97.7329285750388550 30.2653416366560464, -97.7335417510384303 30.2636548871375517, -97.7345222048620599 30.2621043811498929, -97.7358322474746757 30.2607496958318158, -97.7374215317025090 30.2596428819888850, -97.7392289874970999 30.2588264651784726, -97.7411851680222270 30.2583318127965093, -97.7432149165273927 30.2581779297173483, -97.7452402518148347 30.2583707286066961, -97.7471833618339048 30.2589028028494518, -97.7489695908434300 30.2597537107956249, -97.7505303058205754 30.2608907604600539, -97.7518055323518666 30.2622702646510291, -97.7527462589603289 30.2638392184769671, -97.7533163213841476 30.2655373349736756, -97.7534937942749593 30.2672993608248895, -97.7532718365410602 30.2690575833477986, -97.7526589574292188 30.2707444325027808, -97.7516786926354371 30.2722950779568123, -97.7503687024167078 30.2736499213386416, -97.7487793259702471 30.2747568877789348, -97.7469716473840151 30.2755734284887623, -97.7450151474122180 30.2760681572096004, -97.7429850314382378 30.2762220574452421, -97.7409593366035807 30.2760292139180045, -97.7390159296967767 30.2754970400387435, -97.7372295116574037 30.2746459926261871, -97.7356687442864143 30.2735087848979951, -97.7343936099737505 30.2721291281096647, -97.7334531061569294 30.2705600503843328, -97.7328833631797664 30.2688618575487496, -97.7327062577577834 30.2670998145410834))"
          ]
         ],
         "index": [
          0,
          1,
          2
         ]
        },
        "City Route": {
         "columns": [
          "geometry"
         ],
         "data": [
          [
           "LINESTRING (-122.4191000000000003 37.7749000000000024, -74.0060000000000002 40.7128000000000014, -97.7430999999999983 30.2671999999999990)"
          ]
         ],
         "index": [
          0
         ]
        }
       },
       "height": 400,
       "layout": "IPY_MODEL_5388d337204a411d980baf3680eb8e95",
       "value": "Hello World!"
      }
     },
     "5388d337204a411d980baf3680eb8e95": {
      "model_module": "@jupyter-widgets/base",
      "model_module_version": "1.2.0",
      "model_name": "LayoutModel",
      "state": {}
     },
     "69d2629ccdf14a68860d5e5aca600a4a": {
      "model_module": "@jupyter-widgets/base",
      "model_module_version": "1.2.0",
      "model_name": "LayoutModel",
      "state": {}
     },
     "6b274c0c3d8a4d0c81189199171bb55c": {
      "model_module": "keplergl-jupyter",
      "model_module_version": "^0.3.2",
      "model_name": "KeplerGlModal",
      "state": {
       "_model_module_version": "^0.3.2",
       "_view_module_version": "^0.3.2",
       "config": {
        "config": {
         "mapState": {
          "bearing": 0,
          "dragRotate": false,
          "isSplit": false,
          "latitude": 35.49,
          "longitude": -98.21255,
          "pitch": 0,
          "zoom": 3
         },
         "mapStyle": {
          "mapStyles": {},
          "styleType": "dark",
          "threeDBuildingColor": [
           9.665468314072013,
           17.18305478057247,
           31.1442867897876
          ],
          "topLayerGroups": {},
          "visibleLayerGroups": {
           "3d building": false,
           "border": false,
           "building": true,
           "label": true,
           "land": true,
           "road": true,
           "water": true
          }
         },
         "visState": {
          "animationConfig": {
           "currentTime": null,
           "speed": 1
          },
          "filters": [],
          "interactionConfig": {
           "brush": {
            "enabled": false,
            "size": 0.5
           },
           "coordinate": {
            "enabled": false
           },
           "geocoder": {
            "enabled": false
           },
           "tooltip": {
            "compareMode": false,
            "compareType": "absolute",
            "enabled": true,
            "fieldsToShow": {
             "Cities": [
              {
               "format": null,
               "name": "city"
              }
             ]
            }
           }
          },
          "layerBlending": "normal",
          "layers": [
           {
            "config": {
             "color": [
              18,
              147,
              154
             ],
             "columns": {
              "altitude": null,
              "lat": "latitude",
              "lng": "longitude"
             },
             "dataId": "Cities",
             "hidden": false,
             "highlightColor": [
              252,
              242,
              26,
              255
             ],
             "isVisible": true,
             "label": "Point",
             "textLabel": [
              {
               "alignment": "center",
               "anchor": "start",
               "color": [
                255,
                255,
                255
               ],
               "field": null,
               "offset": [
                0,
                0
               ],
               "size": 18
              }
             ],
             "visConfig": {
              "colorRange": {
               "category": "Uber",
               "colors": [
                "#5A1846",
                "#900C3F",
                "#C70039",
                "#E3611C",
                "#F1920E",
                "#FFC300"
               ],
               "name": "Global Warming",
               "type": "sequential"
              },
              "filled": true,
              "fixedRadius": false,
              "opacity": 0.8,
              "outline": false,
              "radius": 10,
              "radiusRange": [
               0,
               50
              ],
              "strokeColor": null,
              "strokeColorRange": {
               "category": "Uber",
               "colors": [
                "#5A1846",
                "#900C3F",
                "#C70039",
                "#E3611C",
                "#F1920E",
                "#FFC300"
               ],
               "name": "Global Warming",
               "type": "sequential"
              },
              "thickness": 2
             }
            },
            "id": "7evobn4",
            "type": "point",
            "visualChannels": {
             "colorField": null,
             "colorScale": "quantile",
             "sizeField": null,
             "sizeScale": "linear",
             "strokeColorField": null,
             "strokeColorScale": "quantile"
            }
           },
           {
            "config": {
             "color": [
              221,
              178,
              124
             ],
             "columns": {
              "geojson": "geometry"
             },
             "dataId": "Cities",
             "hidden": false,
             "highlightColor": [
              252,
              242,
              26,
              255
             ],
             "isVisible": true,
             "label": "Cities",
             "textLabel": [
              {
               "alignment": "center",
               "anchor": "start",
               "color": [
                255,
                255,
                255
               ],
               "field": null,
               "offset": [
                0,
                0
               ],
               "size": 18
              }
             ],
             "visConfig": {
              "colorRange": {
               "category": "Uber",
               "colors": [
                "#5A1846",
                "#900C3F",
                "#C70039",
                "#E3611C",
                "#F1920E",
                "#FFC300"
               ],
               "name": "Global Warming",
               "type": "sequential"
              },
              "elevationScale": 5,
              "enable3d": false,
              "enableElevationZoomFactor": true,
              "filled": true,
              "heightRange": [
               0,
               500
              ],
              "opacity": 0.8,
              "radius": 10,
              "radiusRange": [
               0,
               50
              ],
              "sizeRange": [
               0,
               10
              ],
              "strokeColor": null,
              "strokeColorRange": {
               "category": "Uber",
               "colors": [
                "#5A1846",
                "#900C3F",
                "#C70039",
                "#E3611C",
                "#F1920E",
                "#FFC300"
               ],
               "name": "Global Warming",
               "type": "sequential"
              },
              "strokeOpacity": 0.8,
              "stroked": false,
              "thickness": 0.5,
              "wireframe": false
             }
            },
            "id": "mqkymf",
            "type": "geojson",
            "visualChannels": {
             "colorField": null,
             "colorScale": "quantile",
             "heightField": null,
             "heightScale": "linear",
             "radiusField": null,
             "radiusScale": "linear",
             "sizeField": null,
             "sizeScale": "linear",
             "strokeColorField": null,
             "strokeColorScale": "quantile"
            }
           }
          ],
          "splitMaps": []
         }
        },
        "version": "v1"
       },
       "data": {
        "Cities": {
         "columns": [
          "city",
          "longitude",
          "latitude",
          "geometry"
         ],
         "data": [
          [
           "San Francisco",
           -122.4191,
           37.7749,
           "POINT (-122.4191000000000003 37.7749000000000024)"
          ],
          [
           "New York",
           -74.006,
           40.7128,
           "POINT (-74.0060000000000002 40.7128000000000014)"
          ],
          [
           "Austin",
           -97.7431,
           30.2672,
           "POINT (-97.7430999999999983 30.2671999999999990)"
          ]
         ],
         "index": [
          0,
          1,
          2
         ]
        }
       },
       "height": 400,
       "layout": "IPY_MODEL_69d2629ccdf14a68860d5e5aca600a4a",
       "value": "Hello World!"
      }
     }
    },
    "version_major": 2,
    "version_minor": 0
   }
  }
 },
 "nbformat": 4,
 "nbformat_minor": 5
}
