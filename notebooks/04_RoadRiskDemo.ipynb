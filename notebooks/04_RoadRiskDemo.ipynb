{
 "cells": [
  {
   "attachments": {},
   "cell_type": "markdown",
   "id": "75566fc8-6b1c-48dd-95f0-b673a880d4c2",
   "metadata": {},
   "source": [
    "<img src=\"https://wherobots.com/wp-content/uploads/2023/12/Inline-Blue_Black_onWhite@3x.png\" alt=\"drawing\" width=\"300\"/>\n",
    "\n",
    "# European Road Risk Analysis\n",
    "\n",
    "This notebook demonstrates the process and speed of using Wherobots Cloud as your Spatial Analysis Engine.\n",
    "\n",
    "Today we will see:\n",
    " \n",
    "1. Reading and writing various data sources\n",
    "2. Aggregating and analyzing raster and vector data\n",
    "3. Calculating a basic risk score across several paramaters and at various scales\n",
    "4. Visualizing analytical results\n",
    "   \n",
    "Let's get started!\n",
    "\n",
    "<img src=\"road_risk_preview.jpg\" alt=\"drawing\" width=\"600\"/>\n"
   ]
  },
  {
   "cell_type": "code",
   "execution_count": null,
   "id": "2b6ac989-dc54-4487-87c3-0e0a34a583cf",
   "metadata": {},
   "outputs": [],
   "source": [
    "%%time\n",
    "from sedona.spark import *\n",
    "from sedona.sql import st_functions as stf\n",
    "from sedona.sql import st_constructors as stc\n",
    "from sedona.sql import st_predicates as stp\n",
    "from pyspark.sql.functions import expr, col, count, isnan, when, explode,broadcast,min as spark_min, monotonically_increasing_id, year, lit, to_timestamp\n",
    "from pyspark.sql.window import Window\n",
    "\n",
    "import os\n",
    "\n",
    "\n",
    "\n",
    "config = SedonaContext.builder().\\\n",
    "     config(\"spark.hadoop.fs.s3a.bucket.wherobots-examples.aws.credentials.provider\",\n",
    "            \"org.apache.hadoop.fs.s3a.AnonymousAWSCredentialsProvider\").\\\n",
    "     getOrCreate()\n",
    "sedona = SedonaContext.create(config)"
   ]
  },
  {
   "cell_type": "markdown",
   "id": "676500d2-3438-4fdf-abda-7a799a9f15ab",
   "metadata": {},
   "source": [
    "## Data\n",
    "1. Overture Maps Foundation Layers\n",
    "    - Transportation \n",
    "    - Places\n",
    "        - Service Stations\n",
    "        - Housing\n",
    "        - Emergency Services\n",
    "    - Buildings\n",
    "2. European Commision\n",
    "    - River Flood Hazard Maps\n",
    "    - Landslide Risk"
   ]
  },
  {
   "cell_type": "markdown",
   "id": "13a80a9b-746d-4bac-9163-2a16107c26d6",
   "metadata": {},
   "source": [
    "#### Load Vector Assets "
   ]
  },
  {
   "cell_type": "code",
   "execution_count": null,
   "id": "777731c9-0930-4b3c-ba44-cc2d8b7c7117",
   "metadata": {},
   "outputs": [],
   "source": [
    "nl_df= sedona.sql(f\"\"\"\n",
    "SELECT\n",
    "    geometry\n",
    "FROM \n",
    "    wherobots_open_data.overture_2024_07_22.divisions_division_area \n",
    "WHERE\n",
    "    country ='NL'\n",
    "AND\n",
    "    subtype = 'country'\n",
    "\n",
    " \"\"\")\n",
    "nl_geom_wkt = nl_df.collect()[0].geometry\n"
   ]
  },
  {
   "cell_type": "code",
   "execution_count": null,
   "id": "3468c938-0180-46bf-b1a8-0f9b04fc1024",
   "metadata": {},
   "outputs": [],
   "source": [
    "kepler_map = SedonaKepler.create_map()\n",
    "SedonaKepler.add_df(kepler_map, nl_df, name=\"NL\")\n",
    "kepler_map"
   ]
  },
  {
   "cell_type": "code",
   "execution_count": null,
   "id": "e631c510-acbc-4e5c-bcf7-f7e0e75fc20c",
   "metadata": {},
   "outputs": [],
   "source": [
    "%%time\n",
    "# read Overture Maps Foundation table.\n",
    "nl_service_stations_df = sedona.table(\"\"\"wherobots_open_data.overture_2024_07_22.places_place\"\"\")\\\n",
    "                               .where(expr(f\"\"\"ST_INTERSECTS(geometry,ST_GEOMFROMWKT(\"{nl_geom_wkt}\"))\"\"\"))\\\n",
    "                               .where(\"\"\"categories.primary in ('truck_repair_and_services_for_businesses','truck_repair','transmission_repair',\n",
    "                                                                    'oil_change_station','brake_service_and_repair','automotive_services_and_repair',\n",
    "                                                                    'automotive_repair','auto_glass_service','auto_body_shop')\"\"\")\n",
    "\n",
    "nl_emergency_services_df  = sedona.table(\"\"\"wherobots_open_data.overture_2024_07_22.places_place\"\"\")\\\n",
    "                               .where(expr(f\"\"\"ST_INTERSECTS(geometry,ST_GEOMFROMWKT(\"{nl_geom_wkt}\"))\"\"\"))\\\n",
    "                               .where(\"\"\"categories.primary in ('law_enforcement','police_department','air_ambulance',\n",
    "                                                                'disaster_response_services','emergency_medicine','emergency_roadside_service',\n",
    "                                                                'emergency_room','fire_department','hospital','towing_service','urgent_care_clinic')\"\"\")\n",
    "\n",
    "nl_transportation_df = sedona.table(\"\"\"wherobots_open_data.overture_2024_07_22.transportation_segment\"\"\")\\\n",
    "                          .where(expr(f\"\"\"ST_INTERSECTS(geometry,ST_GEOMFROMWKT(\"{nl_geom_wkt}\"))\"\"\"))\\\n",
    "                          .where(expr(\"class = 'motorway'\"))\n",
    "\n",
    "nl_buildings_df = sedona.table(\"\"\"wherobots_open_data.overture_2024_07_22.buildings_building\"\"\")\\\n",
    "                     .where(expr(f\"\"\"ST_INTERSECTS(geometry,ST_GEOMFROMWKT(\"{nl_geom_wkt}\"))\"\"\"))\\\n",
    "                     .where(\"\"\"class in ('residential','apartments') \"\"\")\n",
    "\n",
    "\n",
    "\n",
    "# repartition, count and create temporary views\n",
    "nl_emergency_services_df = nl_emergency_services_df.repartition(12)\n",
    "print(f\"Emergency Services: {nl_emergency_services_df.count()}\")\n",
    "nl_emergency_services_df.createOrReplaceTempView(\"nl_emergency_services\")\n",
    "\n",
    "nl_service_stations_df = nl_service_stations_df.repartition(12)\n",
    "print(f\"Service Stations: {nl_service_stations_df.count()}\")\n",
    "nl_service_stations_df.createOrReplaceTempView(\"nl_service_stations\")\n",
    "\n",
    "nl_transportation_df = nl_transportation_df.repartition(12)\n",
    "print(f\"Transportation: {nl_transportation_df.count()}\")\n",
    "nl_transportation_df.createOrReplaceTempView(\"nl_transportation\")\n",
    "\n",
    "nl_buildings_df = nl_buildings_df.repartition(12)\n",
    "print(f\"Buildings: {nl_buildings_df.count()}\")\n",
    "nl_buildings_df.createOrReplaceTempView(\"nl_buildings\")"
   ]
  },
  {
   "cell_type": "markdown",
   "id": "95ffcabf-a83d-42bd-be3b-0ef40ed1bab8",
   "metadata": {},
   "source": [
    "#### Load Raster Assets"
   ]
  },
  {
   "cell_type": "code",
   "execution_count": null,
   "id": "5fb99792-8e5d-4c5a-9d68-679cff7b2d8a",
   "metadata": {},
   "outputs": [],
   "source": [
    "%%time\n",
    "#Wall time: 13.6 s\n",
    "# Read directory of Flood Risk \n",
    "flood_layers_dir = f\"\"\"s3://wherobots-examples/data/examples/global_flood_hazard_layers/europe\"\"\"\n",
    "\n",
    "\n",
    "# Create a DataFrame then temporary view containing raster data\n",
    "flood_layers_df = sedona.read.format(\"binaryFile\")\\\n",
    "    .option(\"pathGlobFilter\", \"*.tif\")\\\n",
    "    .option(\"recursiveFileLookup\", \"true\")\\\n",
    "    .load(flood_layers_dir).drop(\"content\").withColumn(\"rast\", expr(\"RS_FromPath(path)\"))\n",
    "\n",
    "flood_layers_df.createOrReplaceTempView(\"flood_raster\")\n",
    "flood_layers_df.show()\n",
    "# tile the raster into 256x256 images and save as a temporary view \n",
    "flood_raster_tiled= sedona.sql(f\"\"\"\n",
    "SELECT \n",
    "    RS_TileExplode(rast, 256, 256) AS (x, y, tile), \n",
    "    REVERSE(SPLIT(RS_BandPath(rast), '/'))[0] AS path,\n",
    "    int(REPLACE(SPLIT(REVERSE(SPLIT(RS_BandPath(rast), '/'))[0],'_')[1],'RP','')) as event\n",
    "FROM \n",
    "    flood_raster\n",
    "WHERE \n",
    "    RS_Intersects(rast,ST_GEOMFROMWKT(\"{nl_geom_wkt}\"))\n",
    "AND\n",
    "    int(REPLACE(SPLIT(REVERSE(SPLIT(RS_BandPath(rast), '/'))[0],'_')[1],'RP',''))  in (10, 50, 100)\"\"\")\n",
    "flood_raster_tiled = flood_raster_tiled.repartition(12)\n",
    "flood_raster_tiled.createOrReplaceTempView(\"flood_raster_tiled\")\n",
    "flood_raster_tiled.show()"
   ]
  },
  {
   "cell_type": "code",
   "execution_count": null,
   "id": "01685699-7c8a-4f87-a6cd-8a0b4c39bdc9",
   "metadata": {},
   "outputs": [],
   "source": [
    "%%time\n",
    "#1.44 s\n",
    "# Read the landslide risk tif\n",
    "landslide_risk_tif = f\"\"\"s3://wherobots-examples/data/examples/EuropeanLandslideSusceptibilityMap/elsus_v2_4326_cog.tif\"\"\"\n",
    "# 0 (-2147483647) = no data; 1 = very low; 2 = low; 3 = moderate; 4 = high; 5 = very high\n",
    "\n",
    "# Create a DataFrame then temporary view containing raster data\n",
    "landslide_risk_df = sedona.read.format(\"binaryFile\")\\\n",
    "    .load(landslide_risk_tif).drop(\"content\").withColumn(\"rast\", expr(\"RS_FromPath(path)\"))\n",
    "\n",
    "landslide_risk_df.createOrReplaceTempView(\"land_slide_risk_raster\")\n",
    "landslide_risk_df.show()\n",
    "# tile the raster into 256x256 images and save as a temporary view \n",
    "landslide_risk_tiled_df= sedona.sql(f\"\"\"\n",
    "SELECT \n",
    "    RS_TileExplode(rast, 256, 256) AS (x, y, tile), \n",
    "    REVERSE(SPLIT(RS_BandPath(rast), '/'))[0] AS path \n",
    "FROM \n",
    "    land_slide_risk_raster\n",
    "WHERE \n",
    "    RS_Intersects(rast,ST_GEOMFROMWKT(\"{nl_geom_wkt}\"))\n",
    "\"\"\")\n",
    "landslide_risk_tiled_df= landslide_risk_tiled_df.repartition(12)\n",
    "landslide_risk_tiled_df.createOrReplaceTempView(\"land_slide_risk_tiled\")\n",
    "landslide_risk_tiled_df.show()"
   ]
  },
  {
   "cell_type": "markdown",
   "id": "ac79e90a-7586-402c-b4c6-0535c17f9de5",
   "metadata": {},
   "source": [
    "#### Now we have all of our data assets loaded and ready to start our analysis. \n",
    "We are going to be creating a transportation risk index using H3 Hex bins as our mapping unit.\n",
    "The process generaly looks like this. \n",
    "1. Isolate the transportation cooridors of Interest\n",
    "2. Generate H3 hex bin map based on the intersection of these coordors\n",
    "3. Engineer features based spatial relationships and add them to the H3 hex bin\n",
    "4. Normalize feartures from 0-1 and then weight our features\n",
    "5. Calcualte final risk score "
   ]
  },
  {
   "cell_type": "markdown",
   "id": "a458a1ee-dfa7-4ada-9f6f-3256999c1df2",
   "metadata": {},
   "source": [
    "#### Our first step in the analysis process is to create our H3 hexagon grid over our road network (specifcally the motorway class) that we will report at. \n",
    "\n",
    "##### We are using H3 Level 6, each hex is approx. 36km<sup>2</sup> with each edge (and the disstance from the centere to any vertex) being 3.7km.\n",
    "Note that we are caching (for faster access), repartationing (for better distribution) and creating and temporary view (for reuse in spatialSQL)."
   ]
  },
  {
   "cell_type": "code",
   "execution_count": null,
   "id": "1ce278c3-d178-4198-afb5-9a6a7f675833",
   "metadata": {},
   "outputs": [],
   "source": [
    "%%time\n",
    "hex_scale= 6\n",
    "road_hex = sedona.sql(f\"\"\" \n",
    "WITH h3_ids AS (SELECT \n",
    "   DISTINCT EXPLODE\n",
    "               (\n",
    "                   ST_H3CellIDs(geometry, {hex_scale}, true)\n",
    "               ) AS h3 \n",
    "FROM \n",
    "nl_transportation )\n",
    "\n",
    "\n",
    "SELECT \n",
    "    h3,\n",
    "    EXPLODE (ST_H3ToGeom(ARRAY(h3))) AS hex_geometry\n",
    "FROM \n",
    "    h3_ids\n",
    "\"\"\")\n",
    "road_hex = road_hex.repartition(12)\n",
    "road_hex.createOrReplaceTempView(\"hex_bins_d\")"
   ]
  },
  {
   "cell_type": "markdown",
   "id": "33437fc0-2537-416c-a389-9c15a44960b1",
   "metadata": {},
   "source": [
    "#### Our second step in the analysis is to join the max speed limit from our road network to out hexagons.\n",
    "\n",
    "Note that we use a left join to retain _all_ mapping units and the join is predicated on the spatial relationship \"Intersects\". \n",
    "\n",
    "Again we repartition and create a temp view. "
   ]
  },
  {
   "cell_type": "code",
   "execution_count": null,
   "id": "b6f43132-95ce-479f-8e21-4c250d53726a",
   "metadata": {},
   "outputs": [],
   "source": [
    "road_hex.count()"
   ]
  },
  {
   "cell_type": "code",
   "execution_count": null,
   "id": "dc6f5be1-7c64-4917-bd2a-a830df482650",
   "metadata": {},
   "outputs": [],
   "source": [
    "%%time\n",
    "# 13 s\n",
    "hex_scale= 6\n",
    "road_speed_hex = sedona.sql(f\"\"\" \n",
    "SELECT\n",
    "    FIRST(ARRAY_MAX(t2.speed_limits.max_speed.value)) AS speed_limit,\n",
    "    FIRST(t1.hex_geometry) AS geometry,\n",
    "    t1.h3\n",
    "FROM \n",
    "    hex_bins_d t1\n",
    "LEFT JOIN \n",
    "    nl_transportation t2\n",
    "ON\n",
    "    ST_INTERSECTS(t1.hex_geometry, t2.geometry)\n",
    "GROUP BY \n",
    "    t1.h3\n",
    "\"\"\")\n",
    "road_speed_hex = road_speed_hex.repartition(12)\n",
    "road_speed_hex.createOrReplaceTempView(\"road_speed_hex\")\n",
    "road_speed_hex.count()"
   ]
  },
  {
   "cell_type": "code",
   "execution_count": null,
   "id": "9b165eb8-6ad6-42f6-9bdb-7acdbd745444",
   "metadata": {
    "scrolled": true
   },
   "outputs": [],
   "source": [
    "road_speed_hex.show()"
   ]
  },
  {
   "cell_type": "code",
   "execution_count": null,
   "id": "f0dde01d-8d7b-4fca-95ec-187041f320a9",
   "metadata": {},
   "outputs": [],
   "source": [
    "road_speed_hex.printSchema()"
   ]
  },
  {
   "cell_type": "code",
   "execution_count": null,
   "id": "298ebe6f-0799-45de-aa56-186a8e86983b",
   "metadata": {
    "scrolled": true
   },
   "outputs": [],
   "source": [
    "kepler_map = SedonaKepler.create_map()\n",
    "SedonaKepler.add_df(kepler_map, road_speed_hex, name=\"road_speed_hex\")\n",
    "kepler_map\n"
   ]
  },
  {
   "cell_type": "markdown",
   "id": "aac6a62c-623d-4353-9607-b1066acad79a",
   "metadata": {},
   "source": [
    "#### Now we have our hex bins identified along our major road networks and as an added benefit we brought in the speed limits\n",
    "\n",
    "We now start the process of aggregating the rest of our risk paramaters to our H3 cell\n",
    "- Service Stations counts\n",
    "- Landslide counts\n",
    "- Emergency Services counts\n",
    "- Landslide potential\n",
    "- Flooding potential\n",
    "  "
   ]
  },
  {
   "cell_type": "code",
   "execution_count": null,
   "id": "91bec6f7-1111-4eb2-8985-95e1ebd1e2cc",
   "metadata": {},
   "outputs": [],
   "source": [
    "sedona.sql(\"\"\" SELECT count(distinct h3) from hex_bins_d\"\"\").show()"
   ]
  },
  {
   "cell_type": "code",
   "execution_count": null,
   "id": "46421a7c-8ff4-4869-9405-039714f33511",
   "metadata": {},
   "outputs": [],
   "source": [
    "%%time\n",
    "#9.08 s\n",
    "service_stations_df = sedona.sql(\"\"\"\n",
    "SELECT\n",
    "    h.h3,\n",
    "    count(p.id) as service_stations\n",
    "FROM \n",
    "    hex_bins_d h\n",
    "LEFT JOIN\n",
    "    nl_service_stations p on ST_CONTAINS(h.hex_geometry,p.geometry)\n",
    "GROUP BY \n",
    "    h.h3\n",
    "\"\"\")\n",
    "service_stations_df = service_stations_df.repartition(12)\n",
    "service_stations_df.createOrReplaceTempView(\"hex_service_stations\")\n",
    "service_stations_df.count()"
   ]
  },
  {
   "cell_type": "code",
   "execution_count": null,
   "id": "b6bb97b9-8661-472d-944c-14b40733b06d",
   "metadata": {},
   "outputs": [],
   "source": [
    "%%time\n",
    "#8.76 s\n",
    "emergency_services_df = sedona.sql(\"\"\"\n",
    "SELECT\n",
    "    h.h3,\n",
    "    count(p.id) as emergency_services\n",
    "FROM \n",
    "    hex_bins_d h\n",
    "LEFT JOIN\n",
    "    nl_emergency_services p on ST_CONTAINS(h.hex_geometry,p.geometry)\n",
    "GROUP BY \n",
    "    h.h3\n",
    "\"\"\")\n",
    "emergency_services_df = emergency_services_df.repartition(12)\n",
    "emergency_services_df.createOrReplaceTempView(\"hex_emergency_services\")\n",
    "emergency_services_df.count()"
   ]
  },
  {
   "cell_type": "code",
   "execution_count": null,
   "id": "00194b76-236b-4692-8536-56bf6f740ee5",
   "metadata": {},
   "outputs": [],
   "source": [
    "%%time    \n",
    "#Wall time: 8.69 s\n",
    "res_buildings_df = sedona.sql(\"\"\"\n",
    "\n",
    "\n",
    "SELECT\n",
    "    h.h3,\n",
    "    count(b.id) as res_building\n",
    "FROM \n",
    "    hex_bins_d h\n",
    "LEFT JOIN\n",
    "    nl_buildings b on ST_CONTAINS(h.hex_geometry,ST_CENTROID(b.geometry))\n",
    "GROUP BY \n",
    "    h.h3\n",
    "\"\"\")\n",
    "res_buildings_df = res_buildings_df.repartition(12)\n",
    "res_buildings_df.createOrReplaceTempView(\"hex_res_buildings\")\n",
    "res_buildings_df.count()"
   ]
  },
  {
   "cell_type": "code",
   "execution_count": null,
   "id": "747fe84e-14df-43cd-8da1-091f08f725e6",
   "metadata": {},
   "outputs": [],
   "source": [
    "%%time\n",
    "res_buildings_df.where(\"res_building>0\").show()"
   ]
  },
  {
   "cell_type": "code",
   "execution_count": null,
   "id": "d5e5e5a6-2d98-4de8-996a-1a109b1f6a22",
   "metadata": {},
   "outputs": [],
   "source": [
    "%%time\n",
    "#8.78 s\n",
    "enriched_hex_df = sedona.sql(\"\"\"\n",
    "SELECT\n",
    "    r.h3,\n",
    "    r.geometry,\n",
    "    r.speed_limit,\n",
    "    s.service_stations,\n",
    "    r.res_building,\n",
    "    e.emergency_services\n",
    "FROM\n",
    "    road_speed_hex r\n",
    "LEFT JOIN    \n",
    "    hex_service_stations s using(h3) \n",
    "LEFT JOIN\n",
    "    hex_res_buildings r using(h3) \n",
    "LEFT JOIN\n",
    "    hex_emergency_services e using(h3)\n",
    "\"\"\")\n",
    "\n",
    "enriched_hex_df = enriched_hex_df.repartition(12)\n",
    "enriched_hex_df.createOrReplaceTempView(\"enriched_hex\")\n",
    "enriched_hex_df.count()"
   ]
  },
  {
   "cell_type": "code",
   "execution_count": null,
   "id": "9ac78e11-e6da-4315-8148-3e5febfb5301",
   "metadata": {},
   "outputs": [],
   "source": [
    "%%time\n",
    "enriched_hex_df.show()"
   ]
  },
  {
   "cell_type": "code",
   "execution_count": null,
   "id": "7a0d4aca-6842-4878-85b5-759b387b12d2",
   "metadata": {},
   "outputs": [],
   "source": [
    "\n",
    "kepler_map = SedonaKepler.create_map()\n",
    "SedonaKepler.add_df(kepler_map, enriched_hex_df, name=\"roads\")\n",
    "kepler_map"
   ]
  },
  {
   "cell_type": "markdown",
   "id": "40e2615b-56e8-47bb-bd7c-2daace096463",
   "metadata": {},
   "source": [
    "##### Raster Data Joining with Zonal Statistics"
   ]
  },
  {
   "cell_type": "code",
   "execution_count": null,
   "id": "b7ba2950-ea37-475c-93ec-badb7b84942e",
   "metadata": {},
   "outputs": [],
   "source": [
    "%%time\n",
    "# 8.54 s\n",
    "landslide_df = sedona.sql(\"\"\"\n",
    "WITH matched_tile AS (\n",
    "  SELECT \n",
    "      t2.tile,\n",
    "      t1.h3,\n",
    "      t1.geometry\n",
    "  FROM \n",
    "      enriched_hex t1\n",
    "  LEFT JOIN   \n",
    "      land_slide_risk_tiled t2\n",
    "  ON ST_OVERLAPS(RS_ENVELOPE(tile), t1.geometry)  \n",
    ")\n",
    "\n",
    "SELECT \n",
    "    max(RS_ZonalStats(tile, geometry, 'max')) AS max_landslide_class,\n",
    "    matched_tile.h3 \n",
    "FROM matched_tile\n",
    "group by matched_tile.h3\n",
    "\"\"\")\n",
    "landslide_df = landslide_df.repartition(12)\n",
    "landslide_risk_tiled_df.unpersist()\n",
    "landslide_df.createOrReplaceTempView('hex_landslide')\n",
    "landslide_df.count()"
   ]
  },
  {
   "cell_type": "code",
   "execution_count": null,
   "id": "46387e2b-2b8f-4076-b65d-f0e49f2ebba5",
   "metadata": {},
   "outputs": [],
   "source": [
    "landslide_df.printSchema()"
   ]
  },
  {
   "cell_type": "code",
   "execution_count": null,
   "id": "590c0258-5507-4c4d-a312-720b7a9b3bf7",
   "metadata": {},
   "outputs": [],
   "source": [
    "%%time\n",
    "landslide_df.where(\"max_landslide_class is not null\").show()"
   ]
  },
  {
   "cell_type": "code",
   "execution_count": null,
   "id": "16b415e0-521a-4579-a44c-6dac0831e5e1",
   "metadata": {},
   "outputs": [],
   "source": [
    "%%time\n",
    "#Wall time: 6min 39s\n",
    "flood_df = sedona.sql(\"\"\"\n",
    "WITH matched_tile AS (\n",
    "  SELECT \n",
    "      t2.tile,\n",
    "      t2.event,\n",
    "      t1.h3,\n",
    "      t1.geometry\n",
    "  FROM \n",
    "       enriched_hex t1\n",
    "  LEFT JOIN   \n",
    "      flood_raster_tiled t2\n",
    "  ON ST_OVERLAPS(RS_ENVELOPE(t2.tile), t1.geometry) \n",
    ")\n",
    "\n",
    "SELECT \n",
    "    COUNT(RS_ZonalStats(matched_tile.tile,geometry, 'count')) AS flood_point_cnt,\n",
    "    matched_tile.h3, \n",
    "    matched_tile.event\n",
    "FROM matched_tile\n",
    "GROUP BY \n",
    "h3, \n",
    "event\n",
    "\"\"\")\n",
    "flood_df = flood_df.repartition(12)\n",
    "flood_df.createOrReplaceTempView('hex_flood')\n",
    "flood_df.count()"
   ]
  },
  {
   "cell_type": "code",
   "execution_count": null,
   "id": "24fe4d49-0bcf-49ae-8581-5f8b72bfa6bd",
   "metadata": {},
   "outputs": [],
   "source": [
    "flood_df.printSchema()"
   ]
  },
  {
   "cell_type": "code",
   "execution_count": null,
   "id": "758d948a-4ec9-46ad-b893-76dee3a1cf29",
   "metadata": {},
   "outputs": [],
   "source": [
    "sedona.sql(\"SELECT * from hex_flood where h3=603929423816687615 order by event DESC\").show()"
   ]
  },
  {
   "cell_type": "code",
   "execution_count": null,
   "id": "419d78f6-1213-4183-b875-dbbddab9e5d7",
   "metadata": {},
   "outputs": [],
   "source": [
    "%%time\n",
    "flood_pivot_df = sedona.sql(\"\"\"\n",
    "\n",
    "SELECT * FROM hex_flood\n",
    "    PIVOT (\n",
    "        SUM(flood_point_cnt) AS a\n",
    "        FOR event IN ('10' AS ten_year,'20' as twenty_year,'30' as thirty,'40' as fourty,'50' as fifty,'75' as seventyfive,'100' as one_hundred,'200' as two_hundred,'500' as five_hundred)\n",
    "    )\n",
    "\n",
    "\"\"\")\n",
    "flood_pivot_df = flood_pivot_df.repartition(15)\n",
    "\n",
    "flood_pivot_df.createOrReplaceTempView('hex_flood_pivot')"
   ]
  },
  {
   "cell_type": "code",
   "execution_count": null,
   "id": "faf6d80c-3ab4-43cf-b3b4-924d3a4be800",
   "metadata": {},
   "outputs": [],
   "source": [
    "flood_pivot_df.show()"
   ]
  },
  {
   "cell_type": "code",
   "execution_count": null,
   "id": "bef7955d-3a82-4d46-aeb9-286cae5c9306",
   "metadata": {},
   "outputs": [],
   "source": [
    "flood_pivot_df.count()"
   ]
  },
  {
   "cell_type": "raw",
   "id": "302547e9-d037-48e6-9d6a-3d9e48bce9e8",
   "metadata": {},
   "source": [
    "landslide_df.select(expr('MAX(max_landslide_class)')).show()"
   ]
  },
  {
   "cell_type": "raw",
   "id": "abbd03e3-46b6-424f-9fc0-765437a8fa78",
   "metadata": {},
   "source": [
    "landslide_df.select(expr('MIN(max_landslide_class)')).show()"
   ]
  },
  {
   "cell_type": "raw",
   "id": "c8dbec68-aaa9-4434-81ba-6fd9dc6f63e2",
   "metadata": {
    "scrolled": true
   },
   "source": [
    "enriched_hex_df.select(expr('Max(speed_limit)')).show()"
   ]
  },
  {
   "cell_type": "raw",
   "id": "e1969304-0780-46d4-b83a-8ce9eee9c103",
   "metadata": {
    "scrolled": true
   },
   "source": [
    "enriched_hex_df.select(expr('MIN(speed_limit)')).show()"
   ]
  },
  {
   "cell_type": "raw",
   "id": "8b7a9883-66f2-4e3a-876e-c0c1a27b9c49",
   "metadata": {},
   "source": [
    "enriched_hex_df.select(expr('MAX(service_stations)')).show()"
   ]
  },
  {
   "cell_type": "raw",
   "id": "ab79c932-424b-42d5-aa2a-c42a72f0d46b",
   "metadata": {
    "scrolled": true
   },
   "source": [
    "enriched_hex_df.select(expr('MIN(service_stations)')).show()"
   ]
  },
  {
   "cell_type": "raw",
   "id": "5277a704-9e3d-4985-8383-2bb2a3b58797",
   "metadata": {
    "scrolled": true
   },
   "source": [
    "enriched_hex_df.select(expr('MAX(res_building)')).show()"
   ]
  },
  {
   "cell_type": "raw",
   "id": "9379d2b7-b20b-41a5-87ce-8cb28cfbbb41",
   "metadata": {
    "scrolled": true
   },
   "source": [
    "enriched_hex_df.select(expr('MIN(res_building)')).show()"
   ]
  },
  {
   "cell_type": "raw",
   "id": "ba5e4f03-102b-444a-9bd1-431a8343ff30",
   "metadata": {
    "scrolled": true
   },
   "source": [
    "enriched_hex_df.select(expr('MAX(emergency_services)')).show()"
   ]
  },
  {
   "cell_type": "raw",
   "id": "0b835e32-f105-4292-b50a-70de61a5c971",
   "metadata": {},
   "source": [
    "enriched_hex_df.select(expr('MIN(emergency_services)')).show()"
   ]
  },
  {
   "cell_type": "raw",
   "id": "3843c6f9-c978-4d2c-a7ad-c36d21b37a2a",
   "metadata": {},
   "source": [
    "flood_pivot_df.select(expr('MAX(ten_year)')).show()"
   ]
  },
  {
   "cell_type": "raw",
   "id": "627525de-badd-4fed-bf76-dbc47c0ee427",
   "metadata": {},
   "source": [
    "flood_pivot_df.select(expr('MIN(ten_year)')).show()"
   ]
  },
  {
   "cell_type": "raw",
   "id": "8243d5fa-c4e3-48a9-a675-bc1797c33f86",
   "metadata": {},
   "source": [
    "flood_pivot_df.select(expr('MAX(twenty_year)')).show()"
   ]
  },
  {
   "cell_type": "raw",
   "id": "83e3e60a-19c5-4637-b1c2-8897b4bccc07",
   "metadata": {},
   "source": [
    "flood_pivot_df.select(expr('MIN(twenty_year)')).show()"
   ]
  },
  {
   "cell_type": "raw",
   "id": "90391222-c0ed-470a-95e2-db11c1a27215",
   "metadata": {
    "scrolled": true
   },
   "source": [
    "flood_pivot_df.select(expr('MAX(thirty)')).show()"
   ]
  },
  {
   "cell_type": "raw",
   "id": "3165ac15-b6d9-4b18-8f6a-5f9a13aaf75e",
   "metadata": {
    "scrolled": true
   },
   "source": [
    "flood_pivot_df.select(expr('MIN(thirty)')).show()"
   ]
  },
  {
   "cell_type": "raw",
   "id": "88b2d5da-3441-4943-b0c4-e51ce2d070cd",
   "metadata": {
    "scrolled": true
   },
   "source": [
    "flood_pivot_df.select(expr('MAX(fourty)')).show()"
   ]
  },
  {
   "cell_type": "raw",
   "id": "88402eb5-5330-4c22-bca4-e60c68ff9bad",
   "metadata": {},
   "source": [
    "flood_pivot_df.select(expr('MIN(fourty)')).show()"
   ]
  },
  {
   "cell_type": "raw",
   "id": "65390c12-38cf-405f-9ef2-cd63fc6e18cb",
   "metadata": {},
   "source": [
    "flood_pivot_df.select(expr('MAX(fifty)')).show()"
   ]
  },
  {
   "cell_type": "raw",
   "id": "99fc8f19-c0a7-4e8c-98cb-146fe4d2c4f2",
   "metadata": {},
   "source": [
    "flood_pivot_df.select(expr('MIN(fifty)')).show()"
   ]
  },
  {
   "cell_type": "raw",
   "id": "9e87b8cd-d2ce-49c7-bccc-698465dee5b8",
   "metadata": {},
   "source": [
    "flood_pivot_df.select(expr('MAX(seventyfive)')).show()"
   ]
  },
  {
   "cell_type": "raw",
   "id": "2ffe6f90-abff-482f-a92e-353ef2432b28",
   "metadata": {},
   "source": [
    "flood_pivot_df.select(expr('MIN(seventyfive)')).show()"
   ]
  },
  {
   "cell_type": "raw",
   "id": "b2fe6d2d-4684-4e55-8c44-4827e33be945",
   "metadata": {
    "scrolled": true
   },
   "source": [
    "flood_pivot_df.select(expr('MAX(one_hundred)')).show()"
   ]
  },
  {
   "cell_type": "raw",
   "id": "ad9425d2-49bc-4a1a-a9e6-e38f047ae1b5",
   "metadata": {},
   "source": [
    "flood_pivot_df.select(expr('MIN(one_hundred)')).show()"
   ]
  },
  {
   "cell_type": "raw",
   "id": "2ffd96d9-0b21-4dd1-ab17-b4edca629919",
   "metadata": {
    "scrolled": true
   },
   "source": [
    "flood_pivot_df.select(expr('MAX(two_hundred)')).show()"
   ]
  },
  {
   "cell_type": "raw",
   "id": "df3ca9ba-df8f-4ef4-a795-9a161145618f",
   "metadata": {
    "scrolled": true
   },
   "source": [
    "flood_pivot_df.select(expr('MIN(two_hundred)')).show()"
   ]
  },
  {
   "cell_type": "raw",
   "id": "0f2cbaef-6b44-44da-aee4-0be136ec5adf",
   "metadata": {},
   "source": [
    "flood_pivot_df.select(expr('MAX(five_hundred)')).show()"
   ]
  },
  {
   "cell_type": "raw",
   "id": "7d874b6f-0c35-43d2-9576-afb9b5a47fa9",
   "metadata": {
    "scrolled": true
   },
   "source": [
    "flood_pivot_df.select(expr('MIN(five_hundred)')).show()"
   ]
  },
  {
   "cell_type": "code",
   "execution_count": null,
   "id": "f645014d-4de6-4c41-a218-92c8eb7878c5",
   "metadata": {},
   "outputs": [],
   "source": [
    "%%time\n",
    "combined_df = sedona.sql(\"\"\"\n",
    "SELECT\n",
    "    t1.geometry,\n",
    "    .3 *(COALESCE((t1.res_building - 0) / (21042 -0 ),0)) AS res_building,\n",
    "1 - (.5 *(COALESCE((t1.emergency_services - 0) / (113 - 0),0))) AS emergency_services,\n",
    "1 - (.5 *(COALESCE((t1.service_stations - 0) / (59 - 0),0))) AS service_stations,\n",
    "    .3 *(COALESCE((t1.speed_limit -30 ) / (130 - 30 ),0)) AS speed_limit,\n",
    "    .6 *(COALESCE(1,0)) AS max_landslide_class,\n",
    "    .4 *(COALESCE((t3.ten_year - 0) / (4 - 0),0)) AS ten_flood_point_cnt,\n",
    "    .3 *(COALESCE((t3.twenty_year - 0) / (4 - 0),0)) AS twenty_flood_point_cnt,\n",
    "    .2 *(COALESCE((t3.thirty - 0) / (4 - 0),0)) AS thirty_flood_point_cnt,\n",
    "    .1 *(COALESCE((t3.fourty - 0) / (4 - 0),0)) AS fourty_flood_point_cnt,\n",
    "    .09 *(COALESCE((t3.fifty - 0) / (4 - 0),0)) AS fifty_flood_point_cnt,\n",
    "    .08 *(COALESCE((t3.seventyfive - 0) / (4 - 0),0)) AS seventyfive_flood_point_cnt,\n",
    "    .07 *(COALESCE((t3.one_hundred - 0) / (4 - 0),0)) AS one_hundred_flood_point_cnt,\n",
    "    .06 *(COALESCE((t3.two_hundred - 0) / (4 - 0),0)) AS two_hundred_flood_point_cnt,\n",
    "    .05 *(COALESCE((t3.five_hundred - 0) / (4 - 0),0)) AS five_hundred_flood_point_cnt\n",
    "\n",
    "FROM \n",
    "    enriched_hex t1\n",
    "LEFT JOIN \n",
    "    hex_flood_pivot t3 USING (h3)\n",
    "LEFT JOIN \n",
    "    hex_landslide t4 USING (h3)\n",
    "\n",
    "\"\"\")\n",
    "\n",
    "\n",
    "combined_df = combined_df.repartition(12)\n",
    "combined_df.createOrReplaceTempView('combined_hex')\n",
    "combined_df.count()"
   ]
  },
  {
   "cell_type": "code",
   "execution_count": null,
   "id": "0fc986e3-936e-48c7-a746-99f9e4dcc4c9",
   "metadata": {},
   "outputs": [],
   "source": [
    "final_hex = sedona.sql(\"\"\"\n",
    "\n",
    "SELECT\n",
    "    geometry,\n",
    "res_building+emergency_services+service_stations+speed_limit+max_landslide_class+ten_flood_point_cnt+twenty_flood_point_cnt+thirty_flood_point_cnt+fourty_flood_point_cnt+fifty_flood_point_cnt+seventyfive_flood_point_cnt+one_hundred_flood_point_cnt+two_hundred_flood_point_cnt+five_hundred_flood_point_cnt as risk_score\n",
    "FROM\n",
    "    combined_hex\n",
    "\"\"\")"
   ]
  },
  {
   "cell_type": "code",
   "execution_count": null,
   "id": "fe496dad-6363-47a4-8a56-c8ed89473b11",
   "metadata": {},
   "outputs": [],
   "source": [
    "final_hex.createOrReplaceTempView(\"final_risk\")"
   ]
  },
  {
   "cell_type": "markdown",
   "id": "5dd966cf-6ec2-412a-b743-a2d688d4027a",
   "metadata": {},
   "source": [
    "Hex score Max: `4.250014257199886` \n",
    "\n",
    "Hex Score Min: `2.251052534627332`"
   ]
  },
  {
   "cell_type": "code",
   "execution_count": null,
   "id": "6c8f2265-da15-4ea0-9d77-3eaccecb6f2d",
   "metadata": {},
   "outputs": [],
   "source": [
    "final_hex_normal= sedona.sql(\"\"\"\n",
    "SELECT \n",
    "    geometry,\n",
    "    (risk_score - 2.191 ) / (4.25-1.337) as norm_risk_score\n",
    "FROM \n",
    "    final_risk \n",
    "\n",
    "\"\"\")\n",
    "final_hex_normal=final_hex_normal.cache()\n",
    "final_hex_normal.count()"
   ]
  },
  {
   "cell_type": "code",
   "execution_count": null,
   "id": "32c6f004-9f89-472e-9a4e-3f157a71d9f7",
   "metadata": {},
   "outputs": [],
   "source": [
    "kepler_map = SedonaKepler.create_map()\n",
    "SedonaKepler.add_df(kepler_map, final_hex_normal, name=\"combined_df\")\n",
    "kepler_map"
   ]
  },
  {
   "cell_type": "code",
   "execution_count": null,
   "id": "13380784-d6f4-4a14-959c-89c348daa7e6",
   "metadata": {},
   "outputs": [],
   "source": []
  }
 ],
 "metadata": {
  "kernelspec": {
   "display_name": "Python 3 (ipykernel)",
   "language": "python",
   "name": "python3"
  },
  "language_info": {
   "codemirror_mode": {
    "name": "ipython",
    "version": 3
   },
   "file_extension": ".py",
   "mimetype": "text/x-python",
   "name": "python",
   "nbconvert_exporter": "python",
   "pygments_lexer": "ipython3",
   "version": "3.10.11"
  }
 },
 "nbformat": 4,
 "nbformat_minor": 5
}
